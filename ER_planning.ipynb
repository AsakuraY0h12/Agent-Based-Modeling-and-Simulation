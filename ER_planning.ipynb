{
  "cells": [
    {
      "cell_type": "markdown",
      "metadata": {
        "id": "c7318ba1-e106-450a-bb34-de4525d0020e"
      },
      "source": [
        "# 2. Emergency room service with prioritised queues "
      ],
      "id": "c7318ba1-e106-450a-bb34-de4525d0020e"
    },
    {
      "cell_type": "markdown",
      "metadata": {
        "id": "5e1368d1-89a0-4665-b3b8-e678c5cec5d2"
      },
      "source": [
        "## Introduction"
      ],
      "id": "5e1368d1-89a0-4665-b3b8-e678c5cec5d2"
    },
    {
      "cell_type": "markdown",
      "metadata": {
        "id": "8cc5a236-3400-407d-be8e-aab917e308a1"
      },
      "source": [
        "### Learning objective:\n",
        "- Estimation of M/M/c Poisson queues based on observed data \n",
        "- Use of G/G/c queues  \n",
        "- Introduction of queue priorities for different user groups and the implied \n",
        "  consequence \n",
        "- Study different KPIs for queuing systems \n",
        "- Design an optimal service schedule based on requirements for service \n",
        "  guarantees \n",
        "\n",
        "Consider an emergency room at a hospital. People arriving to the emergency \n",
        "room will form a queue, which will be served based on a first-come first-serve\n",
        "(FCFS) principle. There is up to n different counters with one shared queue.\n",
        "Each counter is served by a team. \n",
        "\n",
        "The hospital has collected data during a period of time about arrivals and the\n",
        "service of people in the queuing system. See Table 1 below.\n",
        "\n",
        "| Variables | Description | Unit |\n",
        "| --------- | ----------- | ---- |\n",
        "| ID | ID of the person | ID |\n",
        "| Age | Age of the person | Year |\n",
        "| Critical | If the person needs critical treatment | 1 or 0 |\n",
        "| Arrival | Minutes after midnight | Minutes, between 1-1440 |\n",
        "| InterArrival | Time since arrival of last patient | Minutes |\n",
        "| Prio | Priority of patient, higher number = higher priority (Q 6)  | 1, 2, 3 |\n",
        "| TimePeriod | Which 8-hour time period patient is in (Q 7.a)  | 1, 2, 3|\n",
        "| Category | Category variable for KPIs – 1 (prio group 1+2), 2 (prio 3) (Q 7.a)  | 1, 2 |\n",
        "| Service | Time of the service in minutes  | Minutes |"
      ],
      "id": "8cc5a236-3400-407d-be8e-aab917e308a1"
    },
    {
      "cell_type": "markdown",
      "metadata": {
        "id": "742a794f-34ed-4f73-930b-dfa39db313d7"
      },
      "source": [
        "### Python / jupyther kernel initialization"
      ],
      "id": "742a794f-34ed-4f73-930b-dfa39db313d7"
    },
    {
      "cell_type": "code",
      "execution_count": null,
      "metadata": {
        "id": "oB8IrGEP3weF"
      },
      "outputs": [],
      "source": [
        "!pip install -U simpy"
      ],
      "id": "oB8IrGEP3weF"
    },
    {
      "cell_type": "code",
      "execution_count": null,
      "metadata": {
        "id": "0a694683-e684-4171-97e7-6299221ccf0f"
      },
      "outputs": [],
      "source": [
        "# It good practice to always import packages at the header of the your Python\n",
        "# script and make sort them alphabetically, or using some clear classification\n",
        "#\n",
        "# Here, will load some useful packages, starting with the core Python packages\n",
        "from pathlib import Path  # easy and cross platform resilient path definition\n",
        "\n",
        "# And then proceeding to extension packages\n",
        "import pandas as pd  # de-facto standard for dataframes\n",
        "import numpy as np  # robust and fast numerics\n",
        "import scipy.stats as stats  # applied numerics, including statistics\n",
        "import scipy.special as special  # special mathematical functions\n",
        "import simpy  # discrete event simulation library\n",
        "import sklearn.metrics as metrics  # library of standard score functions, etc\n",
        "\n",
        "# load plotting packages\n",
        "import matplotlib.pyplot as plt\n",
        "import matplotlib.cm as cm\n",
        "\n",
        "#\n",
        "import math\n",
        "\n",
        "# And finally setting important 'global' variables here too\n",
        "path_0 = Path.cwd()\n",
        "\n",
        "rng = np.random.default_rng(42)\n",
        "\n",
        "cmap = cm.get_cmap('viridis')\n",
        "\n",
        "# --------------------------------------------------------------------------- #\n",
        "# Last, but not least, it is advisable to wrap code and comments to a maximum\n",
        "# of 79 characters for a wide variaty of reasons, for details see:\n",
        "# https://peps.python.org/pep-0008/#maximum-line-length"
      ],
      "id": "0a694683-e684-4171-97e7-6299221ccf0f"
    },
    {
      "cell_type": "markdown",
      "metadata": {
        "id": "9b73c4bf-8916-4ea0-91ec-b13d8f2d2c02"
      },
      "source": [
        "## A. Data inspection\n",
        "Before proceeding with the assignment problems it is adviasable to inspect \n",
        "the data.\n",
        "\n",
        "This is a guided inspection of the data, all code in this section is complete\n",
        "and works as expected, but we strongly recommend students to play with it.\n",
        "\n",
        "Despite the code being complete, students are expected to analyse the results\n",
        "and write down their comments. We introduced a few cells for this purpose, but\n",
        "we encourage you to comment as you see fit, adding more cells if necessary.\n",
        "\n",
        "For each of reference add new cells in `Markdown` style with the following format:"
      ],
      "id": "9b73c4bf-8916-4ea0-91ec-b13d8f2d2c02"
    },
    {
      "cell_type": "markdown",
      "metadata": {
        "id": "b70e2c21-ff2c-46d9-8a5f-859ec1e5a5e8"
      },
      "source": [
        "### Exercise 0.: **Guided data inspection**"
      ],
      "id": "b70e2c21-ff2c-46d9-8a5f-859ec1e5a5e8"
    },
    {
      "cell_type": "markdown",
      "metadata": {
        "id": "8c0fcdf0-90e5-432f-80df-7a67ba8a440a"
      },
      "source": [
        "**_Student comments:_**\n",
        "\n",
        "A sample comment."
      ],
      "id": "8c0fcdf0-90e5-432f-80df-7a67ba8a440a"
    },
    {
      "cell_type": "markdown",
      "metadata": {
        "id": "c4520e50-f4b0-44c4-aefa-ca984641325b"
      },
      "source": [
        "#### **Loading data with Pandas**"
      ],
      "id": "c4520e50-f4b0-44c4-aefa-ca984641325b"
    },
    {
      "cell_type": "code",
      "execution_count": null,
      "metadata": {
        "id": "70802075-9cb8-40fd-9dae-58f2bdea9baa"
      },
      "outputs": [],
      "source": [
        "# Loading data\n",
        "from google.colab import files\n",
        "uploaded = files.upload()"
      ],
      "id": "70802075-9cb8-40fd-9dae-58f2bdea9baa"
    },
    {
      "cell_type": "code",
      "execution_count": null,
      "metadata": {
        "id": "oyfWngUh2Rmc"
      },
      "outputs": [],
      "source": [
        "# importing data with pandas\n",
        "# this dataset is saved in standard CSV format, so we load it into\n",
        "# variable `df` as follows\n",
        "from pandas.io.common import dataclasses\n",
        "\n",
        "df = pd.read_csv(path_0 / 'AgentsFrame.csv')\n",
        "\n",
        "# the number of rows and columns is read from the `shape` attribute\n",
        "num_rows, num_cols = df.shape\n",
        "\n",
        "# To print messages with variables in the middle of the message\n",
        "# string, use f-strings as follows\n",
        "print(f'The dataframe contains {num_rows} records with '\n",
        "      f'{num_cols} entries per record.')\n",
        "\n",
        "# a summary of the dataframe can be see with the `head` method\n",
        "df.head()"
      ],
      "id": "oyfWngUh2Rmc"
    },
    {
      "cell_type": "markdown",
      "metadata": {
        "id": "524c91e0-066a-49fb-a44d-fac2cdf7b49c"
      },
      "source": [
        "#### **Inspection of Arrival times, intervals, service, IDs and Age**"
      ],
      "id": "524c91e0-066a-49fb-a44d-fac2cdf7b49c"
    },
    {
      "cell_type": "markdown",
      "metadata": {
        "id": "c8c13e56-7c52-4e1f-94e7-17986964c500"
      },
      "source": [
        "Here you have to sort your data, find extreme values and search for possible\n",
        "missing entries. \n",
        "\n",
        "To verify missing data, we force casting data to float. Missing, none and \n",
        "nans are reported as np.nan and can be accounted for this way."
      ],
      "id": "c8c13e56-7c52-4e1f-94e7-17986964c500"
    },
    {
      "cell_type": "code",
      "execution_count": null,
      "metadata": {
        "id": "52f8e1ef-d3ef-4602-aa46-698102f7840a"
      },
      "outputs": [],
      "source": [
        "# --- CODE START --- #\n",
        "\n",
        "# Find extreme value (min, max) and other summary data (mean, std, etc.)\n",
        "print(df.describe())"
      ],
      "id": "52f8e1ef-d3ef-4602-aa46-698102f7840a"
    },
    {
      "cell_type": "code",
      "execution_count": null,
      "metadata": {
        "id": "HFdiz8Db4ajd"
      },
      "outputs": [],
      "source": [
        "df = df.astype(float)\n",
        "df.isnull().values.any()\n",
        "# --- CODE END ----- #"
      ],
      "id": "HFdiz8Db4ajd"
    },
    {
      "cell_type": "markdown",
      "metadata": {
        "id": "6f0f334e-9507-4e37-85c3-98810854b36f"
      },
      "source": [
        "**_Student comments:_**\n",
        "\n",
        "*There are 424 entries for each variable (424 patients) \\\\\n",
        "IDs do indeed range from 1 to 424 as well \\\\\n",
        "The arrival times range from 3.764692 (min) to 1444.698142 (max) \\\\\n",
        "The intervals have extreme values min 0.005660 and max 24.438476 (M = 3.407307, SD = 3.808549) \\\\\n",
        "Service times range from 0.003503 to 185.524811 (M = 16.141066, SD = 20.354480) \\\\\n",
        "The minimum age is 0 and the max is 94 (M = 55.540094, SD = 22.375229) \\\\\n",
        " \\\\\n",
        "There are no missing values*"
      ],
      "id": "6f0f334e-9507-4e37-85c3-98810854b36f"
    },
    {
      "cell_type": "markdown",
      "metadata": {
        "id": "ebfb4cc4-3898-41a2-9875-ecf8a5b6d72a"
      },
      "source": [
        "#### **Let us now inspect the data with restricted number of options**"
      ],
      "id": "ebfb4cc4-3898-41a2-9875-ecf8a5b6d72a"
    },
    {
      "cell_type": "markdown",
      "metadata": {
        "id": "8704e409-6fcd-4818-b5e0-7fcf5c75443c"
      },
      "source": [
        "Verify the values that you can find in each column and how frequent\n",
        "they appear."
      ],
      "id": "8704e409-6fcd-4818-b5e0-7fcf5c75443c"
    },
    {
      "cell_type": "code",
      "execution_count": null,
      "metadata": {
        "id": "e84f4d52-a43c-4112-840f-ddd1560ca27d"
      },
      "outputs": [],
      "source": [
        "# --- CODE START --- #\n",
        "pd.set_option('display.max_rows', None)\n",
        "\n",
        "#df['AgentArrival'].value_counts().sort_index()\n",
        "#df['ID'].value_counts().sort_index()\n",
        "#df['Critical'].value_counts().sort_index()\n",
        "#df['Age'].value_counts().sort_index()\n",
        "#df['InterArrival'].value_counts().sort_index()\n",
        "#df['Service'].value_counts().sort_index()\n",
        "#df['Prio'].value_counts().sort_index()\n",
        "#df['TimePeriod'].value_counts().sort_index()\n",
        "#df['Category'].value_counts().sort_index()\n",
        "\n"
      ],
      "id": "e84f4d52-a43c-4112-840f-ddd1560ca27d"
    },
    {
      "cell_type": "code",
      "execution_count": null,
      "metadata": {
        "id": "ozn8fRZUFwZx"
      },
      "outputs": [],
      "source": [
        "#Graph for age:\n",
        "ax = df['Age'].value_counts().sort_index().plot(kind='bar', \n",
        "                                    figsize=(20,8),\n",
        "                                    title=\"Frequency of age values in dataset\")\n",
        "ax.set_xlabel(\"Age\")\n",
        "ax.set_ylabel(\"Frequency\")\n",
        "\n",
        "# --- CODE END ----- #"
      ],
      "id": "ozn8fRZUFwZx"
    },
    {
      "cell_type": "markdown",
      "metadata": {
        "id": "07464f80-1794-4e31-8616-cf6a2850e162"
      },
      "source": [
        "**_Student comments:_**\n",
        "\n",
        "*AgentArrival, ID, InterArrival, Service have all (424) unique values \\\\\n",
        "Critical has two options: 0 or 1. The value 0 is present 352 times and 1 is present 72 times. \\\\\n",
        "Age has many different values, but some are there more often than others (Let's check this again when making the report?) \\\\\n",
        "Prio has options 1, 2 or 3. We have 325 observations of 1, 27 observations of 2 and 72 observations of value 3. \\\\\n",
        "Timeperiod can be a 1 (89 times), 2 (165 times), 3 (169 times), or a 4 (1 time). \\\\\n",
        "Category can have value 1 (352 times) or 2 (72 times)*"
      ],
      "id": "07464f80-1794-4e31-8616-cf6a2850e162"
    },
    {
      "cell_type": "markdown",
      "metadata": {
        "id": "ff8bd406-f042-482c-a770-647b453b5bd7"
      },
      "source": [
        "You should have found a time period outside the range 1-3. \n",
        "Can you identify and determine the correct period for that? Hint: remainder"
      ],
      "id": "ff8bd406-f042-482c-a770-647b453b5bd7"
    },
    {
      "cell_type": "code",
      "execution_count": null,
      "metadata": {
        "id": "cbe018a7-01a4-4079-8dcd-ebc3af388267"
      },
      "outputs": [],
      "source": [
        "# --- CODE START --- #\n",
        "print(df.loc[df['TimePeriod'] == 4])\n"
      ],
      "id": "cbe018a7-01a4-4079-8dcd-ebc3af388267"
    },
    {
      "cell_type": "markdown",
      "metadata": {
        "id": "53531a80-b882-4370-80ca-a0ac70b424bb"
      },
      "source": [
        "**_Student comments:_**\n",
        "\n",
        "*The ID of the person with the \"wrong\" timeperid is 424 and their arrival time is 1444.698142. The max arrival time should be 1440, so we substract that from the number here, which leaves us 4.698142 minutes. The correct TimePeriod should, thus, be 1, because it is in the first eight hours after midnight.*"
      ],
      "id": "53531a80-b882-4370-80ca-a0ac70b424bb"
    },
    {
      "cell_type": "markdown",
      "metadata": {
        "id": "c83d778a-fb28-46ea-b954-dd8b71125c3b"
      },
      "source": [
        "Given the agent arrival time, we can clearly see that this is simply a case\n",
        "of agent with arrival time at the begining of the next day, hence time period\n",
        "4 is the time period 1 for the next day. We can create modulus 3 TimePeriod\n",
        "that ensures uniform representation."
      ],
      "id": "c83d778a-fb28-46ea-b954-dd8b71125c3b"
    },
    {
      "cell_type": "code",
      "execution_count": null,
      "metadata": {
        "id": "pLzSafC8GYG3"
      },
      "outputs": [],
      "source": [
        "df['TimePeriod'] = df['TimePeriod'] % 3\n",
        "# --- CODE END ----- #"
      ],
      "id": "pLzSafC8GYG3"
    },
    {
      "cell_type": "code",
      "execution_count": null,
      "metadata": {
        "id": "c4ba6d62-a505-4bf5-8562-046fc15f518e"
      },
      "outputs": [],
      "source": [
        "# we make us of DataFrame method `isin` to get an array\n",
        "# of bool that identifies where we find what we are searching\n",
        "#\n",
        "# By defining these boolean arrays, we can then easily extract\n",
        "# data that matches the desired characteristics\n",
        "#\n",
        "idx_crit = df['Critical'].isin([1]).values\n",
        "idx_cat = df['Category'].isin([2]).values\n",
        "\n",
        "idx_prio_1 = df['Prio'].isin([1]).values\n",
        "idx_prio_2 = df['Prio'].isin([2]).values\n",
        "idx_prio_3 = df['Prio'].isin([3]).values\n",
        "\n",
        "# and we can perform boolean operations as well\n",
        "idx_prio_12 = np.logical_or(idx_prio_1, idx_prio_2)\n",
        "\n",
        "# Applying numpy sum to an array of bool simply returns the total\n",
        "# number of True values\n",
        "t_crit_cat = np.sum(idx_crit == idx_cat)\n",
        "t_crit_prio_3 = np.sum(idx_crit == idx_prio_3)\n",
        "\n",
        "# the ~ is the logic negation operator in Python\n",
        "t_crit_prio_2 = np.sum(~idx_crit[idx_prio_2])\n",
        "t_crit_prio_1 = np.sum(~idx_crit[idx_prio_1])\n",
        "t_crit_prio_12 = np.sum(~idx_crit[idx_prio_12])\n",
        "\n",
        "num_prio_2 = np.sum(idx_prio_2)\n",
        "num_prio_1 = np.sum(idx_prio_1)\n",
        "num_prio_12 = np.sum(idx_prio_12)\n",
        "\n",
        "tests = [\n",
        "    t_crit_cat == num_rows, t_crit_prio_3 == num_rows, \n",
        "    t_crit_prio_2 == num_prio_2, t_crit_prio_1 == num_prio_1,\n",
        "    t_crit_prio_12 == num_prio_12\n",
        "]\n",
        "\n",
        "print(f'Critical cases map one to one with category?          {tests[0]}\\n'\n",
        "      f'Critical cases map one to one with priority=3?        {tests[1]}\\n'\n",
        "      f'Are all elements from priority=2 non-critical?        {tests[2]}\\n'\n",
        "      f'Are all elements from priority=1 non-critical?        {tests[3]}\\n'\n",
        "      f'Non-critical cases map one to one with priority=1,2?  {tests[2]}\\n')\n",
        "# --------------------------------------------------------------------------- #"
      ],
      "id": "c4ba6d62-a505-4bf5-8562-046fc15f518e"
    },
    {
      "cell_type": "markdown",
      "metadata": {
        "id": "1c7dcb03-aeb1-4838-9068-099f9145852d"
      },
      "source": [
        "**_Student comments:_**\n",
        "\n",
        "You can write comments here."
      ],
      "id": "1c7dcb03-aeb1-4838-9068-099f9145852d"
    },
    {
      "cell_type": "markdown",
      "metadata": {
        "id": "1e85b01e-e850-4c77-a948-191cda9ff837"
      },
      "source": [
        "#### **Critical state / priority analysis**"
      ],
      "id": "1e85b01e-e850-4c77-a948-191cda9ff837"
    },
    {
      "cell_type": "markdown",
      "metadata": {
        "id": "46a9e65b-2979-431f-8ce1-68e8902f24fb"
      },
      "source": [
        "Since we have verified that the records can be decompose in three \n",
        "non-overlapping groups, we are free to inspect the arrival interval and\n",
        "service times for each group and also consider the combined priority 1 and 2,\n",
        "_i.e._ the non-critical patients.\n",
        "\n",
        "Given the small size of the DataFrame, we compute and store the intervals for\n",
        "each group in the dataframe, just in case this becomes useful later on."
      ],
      "id": "46a9e65b-2979-431f-8ce1-68e8902f24fb"
    },
    {
      "cell_type": "code",
      "execution_count": null,
      "metadata": {
        "id": "64245215-a966-4822-8f32-c3e781bf97f5"
      },
      "outputs": [],
      "source": [
        "# Critical identifies a special group of patients, to which we can also\n",
        "# attribute an arrival interval\n",
        "\n",
        "# To compute differences between the elements of an array we use np.diff\n",
        "# Naturally, the array of differences has one fewer element, which we \n",
        "# compensate for by appending a zero to the difference array.\n",
        "# in numpy, we use np.concatenate to join to arrays\n",
        "inter_1 = np.concatenate(\n",
        "    ([0], np.diff(\n",
        "        df.loc[idx_prio_1, 'AgentArrival'])\n",
        "    )\n",
        ")\n",
        "inter_2 = np.concatenate(\n",
        "    ([0], np.diff(\n",
        "        df.loc[idx_prio_2, 'AgentArrival'])\n",
        "    )\n",
        ")\n",
        "inter_3 = np.concatenate(\n",
        "    ([0], np.diff(\n",
        "        df.loc[idx_prio_3, 'AgentArrival'])\n",
        "    )\n",
        ")\n",
        "inter_12 = np.concatenate(\n",
        "    ([0], np.diff(\n",
        "        df.loc[idx_prio_12, 'AgentArrival'])\n",
        "    )\n",
        ")\n",
        "\n",
        "# we then add this data to the DataFrame\n",
        "df.loc[idx_prio_1, 'InterPrio1'] = inter_1\n",
        "df.loc[idx_prio_2, 'InterPrio2'] = inter_2\n",
        "df.loc[idx_prio_3, 'InterPrio3'] = inter_3\n",
        "df.loc[idx_prio_12, 'InterPrio12'] = inter_12\n",
        "\n",
        "\n",
        "# note: this data is complete and contains many NaN values\n",
        "df.head()"
      ],
      "id": "64245215-a966-4822-8f32-c3e781bf97f5"
    },
    {
      "cell_type": "markdown",
      "metadata": {
        "id": "ead0dde0-5017-4815-9fbf-917f1ddb6e93"
      },
      "source": [
        "Evaluate the mean arrival and service times according to different groups"
      ],
      "id": "ead0dde0-5017-4815-9fbf-917f1ddb6e93"
    },
    {
      "cell_type": "code",
      "execution_count": null,
      "metadata": {
        "id": "0f4cd1de-7c7f-4a92-849d-05028d6dfee5"
      },
      "outputs": [],
      "source": [
        "# --- CODE START --- #\n",
        "\n",
        "# Arrival time, inter arrival time (from all groups) and service time\n",
        "# Group 1, 2 and 3\n",
        "df.groupby('Prio')['AgentArrival', 'InterArrival', 'Service'].mean()"
      ],
      "id": "0f4cd1de-7c7f-4a92-849d-05028d6dfee5"
    },
    {
      "cell_type": "code",
      "execution_count": null,
      "metadata": {
        "id": "XNZUlfOYVYEf"
      },
      "outputs": [],
      "source": [
        "# Arrival time, inter arrival time (from all groups) and service time\n",
        "# Group 1+2\n",
        "df.loc[df['Prio'] < 3.0, ['AgentArrival', 'InterArrival', 'Service']].mean()"
      ],
      "id": "XNZUlfOYVYEf"
    },
    {
      "cell_type": "code",
      "execution_count": null,
      "metadata": {
        "id": "m8zq7TJKUzwb"
      },
      "outputs": [],
      "source": [
        "# Inter arrival time (within group)\n",
        "df[['InterPrio1', 'InterPrio2', 'InterPrio3', 'InterPrio12']].mean()\n",
        "\n",
        "# --- CODE END ----- #"
      ],
      "id": "m8zq7TJKUzwb"
    },
    {
      "cell_type": "markdown",
      "metadata": {
        "id": "1bcd4dc9-423c-4830-bc4c-bd7c0c40eeae"
      },
      "source": [
        "**_Student comments:_**\n",
        "\n",
        "You can write comments here."
      ],
      "id": "1bcd4dc9-423c-4830-bc4c-bd7c0c40eeae"
    },
    {
      "cell_type": "markdown",
      "metadata": {
        "id": "975744aa-669e-4ed7-822b-7d6dc5811fd2"
      },
      "source": [
        "## B. Theoretical model\n",
        "\n",
        "The hospital considers the data to be representative and would like to \n",
        "formulate a schedule for when counters should be active."
      ],
      "id": "975744aa-669e-4ed7-822b-7d6dc5811fd2"
    },
    {
      "cell_type": "markdown",
      "metadata": {
        "id": "2c9d6474-9a1e-435d-acdf-e8dae1c223ba"
      },
      "source": [
        "### Exercise 1.: **Theoretical model for queuing system**"
      ],
      "id": "2c9d6474-9a1e-435d-acdf-e8dae1c223ba"
    },
    {
      "cell_type": "markdown",
      "metadata": {
        "id": "ec4dae28-363d-41bf-8602-f60b9005684d"
      },
      "source": [
        "1. Develop a theoretical model for queuing system\n",
        "   1. Derive theoretical properties for a Poisson queuing model of type M/M/c\n",
        "      with only one arrival parameter and one service time parameter.  \n",
        "   2. Estimate the parameters from the data \n",
        "   3. Calculate average utilisation, waiting time and length of queue given 6\n",
        "      servers. Is such a system stable? (See hints) "
      ],
      "id": "ec4dae28-363d-41bf-8602-f60b9005684d"
    },
    {
      "cell_type": "markdown",
      "metadata": {
        "id": "655c9ab3-b83a-4b4b-8b6b-25bb6ca8d198"
      },
      "source": [
        "#### Exercise 1.A.: **Poisson queuing models**"
      ],
      "id": "655c9ab3-b83a-4b4b-8b6b-25bb6ca8d198"
    },
    {
      "cell_type": "markdown",
      "metadata": {
        "id": "cb8b3946-8171-45d7-b15d-1cfb27ce7d30"
      },
      "source": [
        "1. Develop a theoretical model for queuing system\n",
        "   1. Derive theoretical properties for a Poisson queuing model of type M/M/c\n",
        "      with only one arrival parameter and one service time parameter.\n",
        "\n",
        "This exercise can be divided into for tasks. Tasks 1 through 3 concern the\n",
        "derivation of the mathematical model for two Markovian queuing systems and \n",
        "final task is dedicated to coding said models into Python. The task are:\n",
        "1. the $M/M/1/k$ queue\n",
        "2. the $M/M/c/k$ queue\n",
        "3. the expectation values for the system size $\\bar s$ and the queue size \n",
        "   $s_q$ for the latter queue.\n",
        "4. implement the models in Python"
      ],
      "id": "cb8b3946-8171-45d7-b15d-1cfb27ce7d30"
    },
    {
      "cell_type": "markdown",
      "metadata": {
        "id": "6f10fa4a-ccff-4e9b-a55e-6b9e956d78bf"
      },
      "source": [
        "##### 4.: **Python code for the $M/M/c/k$ queue**"
      ],
      "id": "6f10fa4a-ccff-4e9b-a55e-6b9e956d78bf"
    },
    {
      "cell_type": "markdown",
      "metadata": {
        "id": "b47150f7-7a35-4591-b865-846c264181e5"
      },
      "source": [
        "Here we will define a series of Python functions to represent the analytic\n",
        "solutions for the Markovian queues\n",
        "- `mmck_p0`: evaluates the probability of being in state $s=0$\n",
        "- `mmck_prob`: evaluates the probability of being in any state $s$\n",
        "- `mmck_mean_num`: evaluates the mean system size for finite systems\n",
        "   numerically\n",
        "- `mmck_mean_exact`: evaluates the mean system size for any system using the\n",
        "   analytic results\n",
        "- `mmck_mean`: runs either of the two previous functions\n",
        "- `mmck_queue_num`: evaluates the mean size of the queue for finite systems\n",
        "   numerically\n",
        "- `mmck_queue_exact`: evaluates the mean size of the queue for any system \n",
        "   using the analytic results\n",
        "- `mmck_queue`: runs either of the two previous functions\n",
        "- `wait_little`: evaluates the waiting time estimates using Little's rules"
      ],
      "id": "b47150f7-7a35-4591-b865-846c264181e5"
    },
    {
      "cell_type": "markdown",
      "metadata": {
        "id": "53f93793-7a7d-4c19-b616-dea07c500d04"
      },
      "source": [
        "We provide incomplete definitions for all required functions, yet students\n",
        "are free to write their own code from scractch if you so wish.\n",
        "\n",
        "By default our functions will always contain the full list of arguments,\n",
        "and a so-called \n",
        "[docstring](https://google.github.io/styleguide/pyguide.html#381-docstrings).\n",
        "\n",
        "The latter includes relevant information regarding what the function does, \n",
        "which arguments/parameters it takes and what it returns (Python accepts \n",
        "functions without return).\n",
        "\n",
        "We advise students to read the docstrings and all the comments written within\n",
        "the definition of the functions.\n",
        "\n",
        "Finally, the incomplete portions of code are highlighted as follows:\n",
        "1. code that is required immediately\n",
        "   ```python\n",
        "   def sum(a, b):\n",
        "       \"\"\"Humble two number sum.\"\"\"\n",
        "       # ---- CODE START ---- #\n",
        "       result = \n",
        "       # ---- CODE END ------ #\n",
        "       return result\n",
        "   ```\n",
        "   where you just need to comple `result = a + b`\n",
        "\n",
        "2.  code that is only required at latter stage\n",
        "    ```python\n",
        "    def sum(a, b, c=None):\n",
        "        \"\"\"A step beyond the humble sum.\"\"\"\n",
        "        # the sum of a and b\n",
        "        # ---- CODE START ---- #\n",
        "        result = \n",
        "        # ---- CODE END ------ #\n",
        "        \n",
        "        # ex.N only\n",
        "        # if a third parameter is not None, add it\n",
        "        # uncomment the code below and complete\n",
        "        # ---- CODE START ---- #\n",
        "    #    if c is not  :\n",
        "    #        result \n",
        "        # ---- CODE END ------ #   \n",
        "        \n",
        "        return result\n",
        "    ```\n",
        "    \n",
        "    In this case, your function will be valid as soon as you complete the \n",
        "    first part is solved immediately, replace the first definition \n",
        "    of `result =` by `result = a + b`.\n",
        "    \n",
        "    Once you get to `ex.N`, you have uncomment and solve the missing part of\n",
        "    the code, a possible solution would read\n",
        "    ```python\n",
        "    # uncomment the code below and complete\n",
        "    # ---- CODE START ---- #\n",
        "    if c is not None:\n",
        "        result += c\n",
        "    # ---- CODE END ------ #   \n",
        "    ```"
      ],
      "id": "53f93793-7a7d-4c19-b616-dea07c500d04"
    },
    {
      "cell_type": "code",
      "execution_count": null,
      "metadata": {
        "id": "4b40ab13-efeb-42b3-80ec-6af59b207a84"
      },
      "outputs": [],
      "source": [
        "# --------------------------------------------------------------------------- #\n",
        "def mmck_p0(r1, r2, c, k=None):\n",
        "    \"\"\"Evaluates the probability of the zeroth state being ocuppied.\n",
        "\n",
        "    This is a numpy vectorized function over r1, r2 and c parameters.\n",
        "\n",
        "    ```\n",
        "    p0 = mmck_p0(1, 2, np.array([5, 10, 20, 50]), k=None)\n",
        "    p0_exact = np.exp(-1/2)\n",
        "    p0 == p0_exact\n",
        "    array([False, False,  True,  True])\n",
        "\n",
        "    p0 = mmck_p0(1, np.array([1, 2, 5, 10]), 20, k=None)\n",
        "    p0_exact = np.exp(-1/np.array([1, 2, 5, 10]))\n",
        "    p0 == p0_exact\n",
        "    array([ True,  True,  True,  True])\n",
        "    ```\n",
        "\n",
        "    Parameters\n",
        "    ----------\n",
        "    r1, r2 : float, np.array of float\n",
        "        arrival (lambda) and service (mu) rates\n",
        "    c: int, np.array of int\n",
        "        number of servers\n",
        "    k : int, default=None\n",
        "        queue size limit, defaults to None for the infinite queue solution\n",
        "\n",
        "    Returns\n",
        "    -------\n",
        "    prob : np.ndarray of float\n",
        "        probability of the zeroth state being occupied\n",
        "    \"\"\"\n",
        "    r = r1/r2\n",
        "    rbar = r1/(c*r2)\n",
        "\n",
        "    sum1 = (math.exp(r) * special.gammaincc(c, r))\n",
        "\n",
        "    if k == None:\n",
        "      sum2 = 1 / (1 - rbar)\n",
        "    else:\n",
        "      sum2 = (1-rbar**(-c+k+1)) / (1-rbar)\n",
        "\n",
        "    prob = (sum1 + ((r**c) / math.factorial(c)) * sum2)**-1\n",
        "\n",
        "    return prob\n",
        "\n",
        "# simple validation tests\n",
        "(mmck_p0(1, 2, 20) == np.exp(-1/2),\n",
        " mmck_p0(1, 2, 20))"
      ],
      "id": "4b40ab13-efeb-42b3-80ec-6af59b207a84"
    },
    {
      "cell_type": "markdown",
      "metadata": {
        "id": "D3HGXJ_O1VMI"
      },
      "source": [
        "**_Student comments_**\\\n",
        "*The np.exp function rounded to a different decimal than our function, so the function is in fact correct*"
      ],
      "id": "D3HGXJ_O1VMI"
    },
    {
      "cell_type": "code",
      "execution_count": null,
      "metadata": {
        "id": "6318ded1-dda2-4da1-b942-64ac2dca5907"
      },
      "outputs": [],
      "source": [
        "def mmck_prob(state, r1, r2, c, k=None):\n",
        "    \"\"\"Evaluates the probability of state being ocuppied.\n",
        "\n",
        "    This function is only vectorizable over the `state` parameter.\n",
        "\n",
        "    Parameters\n",
        "    ----------\n",
        "    state : int, np.ndarray of int\n",
        "        state number(s)\n",
        "    r1, r2 : float\n",
        "        arrival (lambda) and service (mu) rates\n",
        "    c: int\n",
        "        number of servers\n",
        "    k : int, default=None\n",
        "        queue size limit, defaults to None for the infinite queue solution\n",
        "\n",
        "    Returns\n",
        "    -------\n",
        "    prob : np.ndarray of float\n",
        "        probability of state(s) being occupied\n",
        "    \"\"\"\n",
        "    # it is important to use double precision numerics, i.e. 64bit ints and\n",
        "    # floats\n",
        "\n",
        "    # ---- CODE START ---- #\n",
        "    r = r1/r2\n",
        "    rbar = r1/(r2*c)\n",
        "\n",
        "    if state < c:\n",
        "      proba = (r**state / np.float64(special.factorial(state, exact = True))) * mmck_p0(r1, r2, c, k)\n",
        "    else:\n",
        "      i = np.float64(state - c)\n",
        "      cfac = np.float64(special.factorial(c, exact = True))\n",
        "      proba = r**(c+i) * mmck_p0(r1, r2, c, k) / (c**i * cfac)\n",
        "\n",
        "    return proba    \n",
        "    # ---- CODE END ------ #\n",
        "\n",
        "# simple validation tests\n",
        "(mmck_p0(1, 2, 20) == mmck_prob(0, 1, 2, 20),\n",
        " mmck_p0(1, 2, 20, 50) == mmck_p0(1, 2, 20),\n",
        " mmck_p0(1, 2, 20) == np.exp(-1/2),\n",
        " mmck_p0(1, 2, 20))\n",
        "# --------------------------------------------------------------------------- #"
      ],
      "id": "6318ded1-dda2-4da1-b942-64ac2dca5907"
    },
    {
      "cell_type": "code",
      "execution_count": null,
      "metadata": {
        "id": "nCVy1izbwlZa"
      },
      "outputs": [],
      "source": [
        "import scipy, numpy, math "
      ],
      "id": "nCVy1izbwlZa"
    },
    {
      "cell_type": "code",
      "execution_count": null,
      "metadata": {
        "id": "c2326955-e7f3-46f6-80c7-086708104c04"
      },
      "outputs": [],
      "source": [
        "def mmck_mean_num(r1, r2, c, k, states=None):\n",
        "    \"\"\"Evaluates the discrete numerical mean.\n",
        "    \"\"\"\n",
        "    # if the state numbers array is missing, create it based on `k`\n",
        "    if states is None:\n",
        "        states = np.arange(k+1)\n",
        "\n",
        "    # expectation value is just he sum of the product between\n",
        "    # the state numbers and the respective probabilities\n",
        "    # ---- CODE START ---- #\n",
        "    probs = []\n",
        " \n",
        "    for i in range (0, k+1):\n",
        "      probs.append(mmck_prob(i, r1, r2, c, k))\n",
        "\n",
        "    return np.sum(states * probs)\n",
        "    \n",
        "    # ---- CODE END ------ #\n",
        "\n",
        "def mmck_mean_exact(r1, r2, c, k):\n",
        "    \"\"\"Evaluates the exact mean for the selected parameters\"\"\"\n",
        "    r = r1 / r2\n",
        "    rbar = r1 / (r2 * c)\n",
        "\n",
        "    # evaluate the factorial of c, use scipy and make sure it is \n",
        "    # 64 bit number\n",
        "    # also, compute the probabilities\n",
        "    # ---- CODE START ---- #  \n",
        "    \n",
        "    # number_of_bytes=special.factorial(c)\n",
        "    # print(number_of_bytes.nbytes) \n",
        "    \n",
        "    # ---- CODE END ------ #\n",
        "\n",
        "    # NOTE: be aware that scipy has definitions for the regularized \n",
        "    #       gamma incomplete functions, be careful\n",
        "    # ---- CODE START ---- #\n",
        "    s1 = r * np.exp(r) * special.gammaincc(c, r) - rbar / c / special.gamma(c)\n",
        "    # expressions for s2 and s3 if k = None, ie the infinite system\n",
        "    if k == None:\n",
        "      s2 = rbar / (-1+rbar)**2\n",
        "      s3 = 1 / (1 - rbar)\n",
        "    else:\n",
        "      s2 = ((c-k-1)*rbar**(-c+k+1) + (k-c)*rbar**(-c+k+2) + rbar) / (rbar - 1)**2\n",
        "      s3 = (1 - rbar**(-c+k+1)) / (1 - rbar)\n",
        "\n",
        "    prob_0 = mmck_p0(r1, r2, c, k)\n",
        "    # ---- CODE END ------ #\n",
        "\n",
        "    return prob_0 * (s1 + (r**c/math.factorial(c))*s2 + (r**c/math.factorial(c))*c*s3)\n",
        "\n",
        "def mmck_mean(r1, r2, c, k, numeric=False, states=None):\n",
        "    \"\"\"Evaluates the mean expected size of queuing system using either\n",
        "    discrete numerical or exact solutions.\n",
        "    ```\n",
        "    r1, r2, c, k = 2, 6, 1, 50\n",
        "    assert mmck_mean(r1, r2, c, k, numeric=True) == mmck_mean_exact(r1, r2, c, k)\n",
        "    ```\n",
        "    \"\"\"\n",
        "    if numeric:\n",
        "        return mmck_mean_num(r1, r2, c, k, states=states)\n",
        "    else:\n",
        "        return mmck_mean_exact(r1, r2, c, k)\n",
        "\n",
        "# simple validation tests\n",
        "r1, r2, c, k = 1, 1/0.787, 20, 100\n",
        "s_num = mmck_mean(r1, r2, c, k, numeric=True)\n",
        "s_exact = mmck_mean(r1, r2, c, k)\n",
        "np.abs(s_num - s_exact) < 2e-16, s_exact, s_num\n",
        "\n",
        "# --------------------------------------------------------------------------- #"
      ],
      "id": "c2326955-e7f3-46f6-80c7-086708104c04"
    },
    {
      "cell_type": "code",
      "execution_count": null,
      "metadata": {
        "id": "930a1655-49a5-4721-91f8-5f6c71890553"
      },
      "outputs": [],
      "source": [
        "def mmck_queue_num(r1, r2, c, k, states=None):\n",
        "    \"\"\"Discrete numerical evaluation of queue size.\n",
        "    \"\"\"\n",
        "    if states is None:\n",
        "        states = np.arange(k+1)\n",
        "        queuing = states - c\n",
        "        queuing[:c] = 0\n",
        "\n",
        "    # compute the probabilities for all states and then\n",
        "    # evaluate the expectation for `queuing`\n",
        "    # ---- CODE START ---- #\n",
        "    \n",
        "    probs_q=[]\n",
        "\n",
        "    for state in states:\n",
        "      probs_q.append(mmck_prob(state, r1, r2, c, k))\n",
        "           \n",
        "    return np.sum(queuing * probs_q) \n",
        "    # ---- CODE END ------ #\n",
        "\n",
        "def mmck_queue_exact(r1, r2, c, k):\n",
        "    \"\"\"Exact evaluation of queue size.\"\"\"\n",
        "    r = r1 / r2\n",
        "    rbar = r1 / (r2 * c)\n",
        "\n",
        "    c_fac = np.float64(special.factorial(c, exact=True))\n",
        "\n",
        "    # ---- CODE START ---- #\n",
        "\n",
        "    if k == None:\n",
        "      s = rbar / (1 - rbar)**2.0\n",
        "    else:\n",
        "      s = rbar * (1.0 - (k+1) * rbar**k + k*rbar**(k+1)) / (1 - rbar)**2.0\n",
        "\n",
        "    prob_0 = mmck_p0(r1, r2, c, k)\n",
        "    # ---- CODE END ------ #\n",
        "\n",
        "    return s * r**c * prob_0 / c_fac\n",
        "\n",
        "def mmck_queue(r1, r2, c, k, numeric=False, states=None):\n",
        "    \"\"\"Evaluates the mean size of the queue.\n",
        "    \"\"\"\n",
        "    if numeric:\n",
        "        return mmck_queue_num(r1, r2, c, k, states=states)\n",
        "    else:\n",
        "        return mmck_queue_exact(r1, r2, c, k)\n",
        "\n",
        "# additional validation tests\n",
        "r1, r2, c, k = 1, 2, 3, 20\n",
        "sq_num = mmck_queue(r1, r2, c, k, numeric=True)\n",
        "sq_exact = mmck_queue(r1, r2, c, k)\n",
        "np.abs(sq_num - sq_exact) < 2e-12, sq_exact, sq_num\n",
        "# --------------------------------------------------------------------------- #"
      ],
      "id": "930a1655-49a5-4721-91f8-5f6c71890553"
    },
    {
      "cell_type": "code",
      "execution_count": null,
      "metadata": {
        "id": "c809377a-6ebf-4de8-a969-8cde0c164f09"
      },
      "outputs": [],
      "source": [
        "def wait_little(r1, r2, c, k, \n",
        "                return_error_rel=False, return_error_pc=False, \n",
        "                numeric=False):\n",
        "    \"\"\"Evaluates waiting times using Little's law.\n",
        "lamda=r1\n",
        "\n",
        "\n",
        "    $s = \\lambda *W\\:;\\: s_q = \\lambda W_q$\n",
        "    $W = s / \\lambda$\n",
        "    $W_q = s_q / \\lambda$\n",
        "    $W_2 = W_q + 1/\\mu$\n",
        "\n",
        "    Estimates provided by $W$ and $W_2$ will be different for finite (and\n",
        "    small) values of c and k!\n",
        "\n",
        "W = s/Lambda\n",
        "\n",
        "w_q= s_q/lamda\n",
        "W_2=w_q+1/r2\n",
        "\n",
        "    Returns\n",
        "    -------\n",
        "    w : float\n",
        "        mean waiting time for the entire system\n",
        "    wq : float\n",
        "        mean waiting time in queue until service begins\n",
        "    w2 : float\n",
        "        second estimate of mean waiting time for the entire system\n",
        "    rel, pc : float, optional\n",
        "        relative and percentual error of w2 with respect to w1\n",
        "    \"\"\"\n",
        "\n",
        "    # ---- CODE START ---- #\n",
        "    \n",
        "    s = mmck_mean(r1, r2, c, k, numeric)  \n",
        "    s_q = mmck_queue(r1, r2, c, k, numeric)\n",
        "    \n",
        "    w0 = s / r1\n",
        "    wq = s_q / r1\n",
        "    w2 = wq + 1 / r2\n",
        "    \n",
        "    rel = abs(w0-w2)\n",
        "    pc = abs(w0-w2)/w0\n",
        "\n",
        "    out = w0, wq, w2\n",
        "\n",
        "    # ---- CODE END ------ #\n",
        "\n",
        "    return tuple(out)\n",
        "\n",
        "# additional validation tests\n",
        "r1, r2, c, k = 1, 2, 20, 50\n",
        "w0, wq, w2 = wait_little(r1, r2, c, None, numeric=False)\n",
        "(r1/r2 == w0,\n",
        " w0 == w2,\n",
        " (w0, wq, w2) == wait_little(r1, r2, c, 100, numeric=False))\n",
        "# --------------------------------------------------------------------------- #"
      ],
      "id": "c809377a-6ebf-4de8-a969-8cde0c164f09"
    },
    {
      "cell_type": "markdown",
      "metadata": {
        "id": "90716452-2f7f-446d-ac14-25bb137d3b6e"
      },
      "source": [
        "#### Exercise 1.B.: **Statistical analysis of data**"
      ],
      "id": "90716452-2f7f-446d-ac14-25bb137d3b6e"
    },
    {
      "cell_type": "markdown",
      "metadata": {
        "id": "20f4da1f-da2c-47be-86b8-1cb9c554a060"
      },
      "source": [
        "1. Develop a theoretical model for queuing system\n",
        "    2. Estimate the parameters from the data"
      ],
      "id": "20f4da1f-da2c-47be-86b8-1cb9c554a060"
    },
    {
      "cell_type": "markdown",
      "metadata": {
        "id": "c83eeb43-755e-48d6-befe-0e14b84f3ad2"
      },
      "source": [
        "1. To begin, we perform a regression of the arrival and service data against\n",
        "   the standard distribution for a Poisson process, namely the exponential\n",
        "   distribution.\n",
        "2. Then, we compare the fitted models to the data, combining a visual analysis\n",
        "   of the data\n",
        "3. Perfom a quantitative analsis of the fitted models using typical metrics to\n",
        "   assess the quality of a regression.\n",
        "\n",
        "##### **Useful references and notes**:\n",
        "\n",
        "1. Students are advised to read the description of `scipy.stats`\n",
        "   - [scipy.stat.fit](https://docs.scipy.org/doc/scipy/reference/generated/scipy.stats.fit.html)\n",
        "   - [scipy.stat.expon](https://docs.scipy.org/doc/scipy/reference/generated/scipy.stats.expon.html)\n",
        "   - [scipy.stat.poisson](https://docs.scipy.org/doc/scipy/reference/generated/scipy.stats.poisson.html).\n",
        "\n",
        "2. Always verify how the `loc` $(x_0)$, `scale` $(s)$ and additional \n",
        "   parameters are defined in `scipy.stats` with respect to the variable $x$.\n",
        "   The general transformations is $x \\to (x-x_0)/s $, hence the rates are \n",
        "   normaly defined as $\\lambda, \\mu \\equiv 1/s$\n",
        "\n",
        "3. There are multiple approaches to the estimation of the parameters, here we will \n",
        "   proceed as follows\n",
        "   1. use `scipy.stats.fit` to fit the desired distribution via maximum \n",
        "      likelihood estimates of the parameters. The algorithm actually minimizes a\n",
        "      penalized negative loglikelihood function see \n",
        "      [scipy source code](https://github.com/scipy/scipy/blob/main/scipy/stats/_fit.py#L553-L555)\n",
        "   2. generate histograms for all subsets of data and plot these against the pdf\n",
        "      of the respective distribution\n",
        "   3. assess goodness of fit estimates to each subset"
      ],
      "id": "c83eeb43-755e-48d6-befe-0e14b84f3ad2"
    },
    {
      "cell_type": "markdown",
      "metadata": {
        "id": "929d66a7-af67-46fd-af33-3052fabd8670"
      },
      "source": [
        "How does the model compare to data? \n",
        "\n",
        "Consider the mean, variance, \n",
        "skewness and excess kurtosis of the entire dataset and compare with respective\n",
        "predictions from the model."
      ],
      "id": "929d66a7-af67-46fd-af33-3052fabd8670"
    },
    {
      "cell_type": "markdown",
      "metadata": {
        "id": "62fb2a21-6525-4c65-a2e7-fd5ea17f5848"
      },
      "source": [
        "**_Student comments:_**\n",
        "\n"
      ],
      "id": "62fb2a21-6525-4c65-a2e7-fd5ea17f5848"
    },
    {
      "cell_type": "code",
      "execution_count": null,
      "metadata": {
        "id": "MgYhYon3DSXr"
      },
      "outputs": [],
      "source": [
        "df.head()"
      ],
      "id": "MgYhYon3DSXr"
    },
    {
      "cell_type": "code",
      "execution_count": null,
      "metadata": {
        "id": "umV6LjnzcfCU"
      },
      "outputs": [],
      "source": [
        "df[\"InterPrio3\"].unique()"
      ],
      "id": "umV6LjnzcfCU"
    },
    {
      "cell_type": "code",
      "execution_count": null,
      "metadata": {
        "id": "762zrZfSndQ4"
      },
      "outputs": [],
      "source": [
        "df1=df.copy()"
      ],
      "id": "762zrZfSndQ4"
    },
    {
      "cell_type": "code",
      "execution_count": null,
      "metadata": {
        "id": "y56tGHBqcJfj"
      },
      "outputs": [],
      "source": [
        "# not sure if we can do that because \n",
        "df1=df1.replace(np.nan,0,regex=True)\n",
        "df1.head()"
      ],
      "id": "y56tGHBqcJfj"
    },
    {
      "cell_type": "code",
      "execution_count": null,
      "metadata": {
        "id": "ckmLT-DMh_Sn"
      },
      "outputs": [],
      "source": [
        "# Creating features and labels\n",
        "x1=df1.drop(columns='InterArrival')\n",
        "y1=df1['InterArrival']\n",
        "\n",
        "x2=df1.drop(columns='Service')\n",
        "y2=df1['Service']"
      ],
      "id": "ckmLT-DMh_Sn"
    },
    {
      "cell_type": "code",
      "execution_count": null,
      "metadata": {
        "id": "aNBSaVx3Y23S"
      },
      "outputs": [],
      "source": [
        "from sklearn.preprocessing import StandardScaler\n",
        "from sklearn.decomposition import PCA"
      ],
      "id": "aNBSaVx3Y23S"
    },
    {
      "cell_type": "code",
      "execution_count": null,
      "metadata": {
        "id": "2rqMapmjY27S"
      },
      "outputs": [],
      "source": [
        "# Scaled datasets for Arrivals and Service Predictions  \n",
        "scaler = StandardScaler()\n",
        "\n",
        "# InterArrival Times\n",
        "scaler.fit(x1)\n",
        "scaled_df1=scaler.transform(x1)\n",
        "#print(scaled_df1)\n",
        "\n",
        "#Service Times\n",
        "scaler.fit(x2)\n",
        "scaled_df2=scaler.transform(x2)\n",
        "#print(scaled_df2)"
      ],
      "id": "2rqMapmjY27S"
    },
    {
      "cell_type": "code",
      "execution_count": null,
      "metadata": {
        "id": "iUYjaltCaMjC"
      },
      "outputs": [],
      "source": [
        "pca1 = PCA(n_components=2)\n",
        "pca1.fit_transform(scaled_df1)\n",
        "PCA1=pca1.fit_transform(scaled_df1)\n",
        "print(pca1.explained_variance_ratio_)\n"
      ],
      "id": "iUYjaltCaMjC"
    },
    {
      "cell_type": "code",
      "execution_count": null,
      "metadata": {
        "id": "L5hznXt3mH8P"
      },
      "outputs": [],
      "source": [
        "pca2 = PCA(n_components=3)\n",
        "pca2.fit_transform(scaled_df2)\n",
        "PCA2=pca2.fit_transform(scaled_df2)\n",
        "print(pca2.explained_variance_ratio_)"
      ],
      "id": "L5hznXt3mH8P"
    },
    {
      "cell_type": "code",
      "execution_count": null,
      "metadata": {
        "id": "hTSUOruPlcAZ"
      },
      "outputs": [],
      "source": [
        "# Creating Scree Plot to decide how many principal components describe the most variance in our dataset\n",
        "pca1=PCA().fit(scaled_df1)\n",
        "plt.plot(np.cumsum(pca1.explained_variance_ratio_))\n",
        "plt.xlabel(\"# of components\")\n",
        "plt.ylabel(\"Cumulative Explained Variance\")"
      ],
      "id": "hTSUOruPlcAZ"
    },
    {
      "cell_type": "markdown",
      "source": [
        "We can see that the first 2 principal components explain the 80% of the variance in our dataset"
      ],
      "metadata": {
        "id": "X3do7Zydzjim"
      },
      "id": "X3do7Zydzjim"
    },
    {
      "cell_type": "code",
      "execution_count": null,
      "metadata": {
        "id": "2cmT29YElcFN"
      },
      "outputs": [],
      "source": [
        "# Creating Scree Plot to decide how many principal components describe the most variance in our dataset\n",
        "pca2=PCA().fit(scaled_df2)\n",
        "plt.plot(np.cumsum(pca2.explained_variance_ratio_))\n",
        "plt.xlabel(\"# of components\")\n",
        "plt.ylabel(\"Cumulative Explained Variance\")"
      ],
      "id": "2cmT29YElcFN"
    },
    {
      "cell_type": "markdown",
      "source": [
        "We can see that the first 3 principal components explain more than 80% of the variance in our dataset"
      ],
      "metadata": {
        "id": "fuaF17olzeor"
      },
      "id": "fuaF17olzeor"
    },
    {
      "cell_type": "code",
      "execution_count": null,
      "metadata": {
        "id": "npg5izW8jQLH"
      },
      "outputs": [],
      "source": [
        "x1=pd.DataFrame(PCA1)\n",
        "x2=pd.DataFrame(PCA2)"
      ],
      "id": "npg5izW8jQLH"
    },
    {
      "cell_type": "code",
      "execution_count": null,
      "metadata": {
        "id": "UeO01K36l5Fe"
      },
      "outputs": [],
      "source": [
        "from sklearn.model_selection import train_test_split\n",
        "X_train,X_test,y_train,y_test=train_test_split(x1,y1, test_size=0.3,random_state=12)"
      ],
      "id": "UeO01K36l5Fe"
    },
    {
      "cell_type": "code",
      "execution_count": null,
      "metadata": {
        "id": "9d7TXfrol5IP"
      },
      "outputs": [],
      "source": [
        "from sklearn.linear_model import LinearRegression\n",
        "OLS = LinearRegression()\n",
        "OLS.fit(X_train,y_train)"
      ],
      "id": "9d7TXfrol5IP"
    },
    {
      "cell_type": "code",
      "execution_count": null,
      "metadata": {
        "id": "pCCDw5Hol5K_"
      },
      "outputs": [],
      "source": [
        "# Parameters\n",
        "print('Intercept:'+str(OLS.intercept_))\n",
        "print('Coefficients:'+str(OLS.coef_))\n",
        "print('R-squared:'+str(OLS.score(X_train,y_train)))"
      ],
      "id": "pCCDw5Hol5K_"
    },
    {
      "cell_type": "code",
      "execution_count": null,
      "metadata": {
        "id": "um9i3pujl5Oh"
      },
      "outputs": [],
      "source": [
        "# Predictions & Errors\n",
        "y_pred=OLS.predict(X_test)\n",
        "perf=pd.DataFrame({\"Predictions\":y_pred,\"Observations\":y_test})\n",
        "perf[\"Error\"]=perf[\"Predictions\"]-perf[\"Observations\"]\n",
        "perf.head()"
      ],
      "id": "um9i3pujl5Oh"
    },
    {
      "cell_type": "code",
      "execution_count": null,
      "metadata": {
        "id": "UXfKrFlKl5Sr"
      },
      "outputs": [],
      "source": [
        "# Indexing\n",
        "perf.reset_index(drop=True,inplace=True)\n",
        "perf.reset_index(inplace=True)"
      ],
      "id": "UXfKrFlKl5Sr"
    },
    {
      "cell_type": "code",
      "execution_count": null,
      "metadata": {
        "id": "X45GjHrFl5hj"
      },
      "outputs": [],
      "source": [
        "perf.head()"
      ],
      "id": "X45GjHrFl5hj"
    },
    {
      "cell_type": "code",
      "execution_count": null,
      "metadata": {
        "id": "MFS4Y05coj4f"
      },
      "outputs": [],
      "source": [
        "# Plotting errors\n",
        "fig=plt.figure(figsize=(25,8))\n",
        "plt.bar('index','Error',data=perf,color=\"black\",width=0.3)\n",
        "plt.xlabel(\"Observations\")\n",
        "plt.ylabel('Residuals')\n",
        "plt.show()"
      ],
      "id": "MFS4Y05coj4f"
    },
    {
      "cell_type": "code",
      "execution_count": null,
      "metadata": {
        "id": "KdqZ5R2kqJqf"
      },
      "outputs": [],
      "source": [
        "# OLS with sm\n",
        "import statsmodels.api as sm\n",
        "Xtrain=sm.add_constant(X_train)\n",
        "N_OlS=sm.OLS(y_train,X_train).fit()\n",
        "N_OlS.summary()"
      ],
      "id": "KdqZ5R2kqJqf"
    },
    {
      "cell_type": "code",
      "execution_count": null,
      "metadata": {
        "id": "dVhXMSwZrlnO"
      },
      "outputs": [],
      "source": [
        "# Predicting of the service times\n",
        "X_train,X_test,y_train,y_test=train_test_split(x2,y2, test_size=0.3,random_state=12)\n",
        "\n",
        "OLS.fit(X_train,y_train)\n",
        "\n",
        "# Parameters\n",
        "print('Intercept:'+str(OLS.intercept_))\n",
        "print('Coefficients:'+str(OLS.coef_))\n",
        "print('R-squared:'+str(OLS.score(X_train,y_train)))\n",
        "\n",
        "y_pred1=OLS.predict(X_test)\n",
        "perf1=pd.DataFrame({\"Predictions\":y_pred1,\"Observations\":y_test})\n",
        "perf1[\"Error\"]=perf1[\"Predictions\"]-perf1[\"Observations\"]\n",
        "perf1.head()"
      ],
      "id": "dVhXMSwZrlnO"
    },
    {
      "cell_type": "code",
      "execution_count": null,
      "metadata": {
        "id": "z1n-esQdrls7"
      },
      "outputs": [],
      "source": [
        "# OLS with sm\n",
        "Xtrain=sm.add_constant(X_train)\n",
        "N_OlS=sm.OLS(y_train,X_train).fit()\n",
        "N_OlS.summary()"
      ],
      "id": "z1n-esQdrls7"
    },
    {
      "cell_type": "markdown",
      "metadata": {
        "id": "ce70537f-bcc8-4dd9-8d97-4af517a50831"
      },
      "source": [
        "##### **b. Qualitative analysis of the regression**"
      ],
      "id": "ce70537f-bcc8-4dd9-8d97-4af517a50831"
    },
    {
      "cell_type": "code",
      "execution_count": null,
      "metadata": {
        "id": "ln092gYPBq46"
      },
      "outputs": [],
      "source": [
        "import numpy as np\n",
        "from scipy import stats\n",
        "from scipy.stats import expon\n",
        "import matplotlib.pyplot as plt\n",
        "import seaborn as sns\n",
        "sns.set()\n",
        "sns.set_context('notebook')"
      ],
      "id": "ln092gYPBq46"
    },
    {
      "cell_type": "code",
      "execution_count": null,
      "metadata": {
        "id": "Zdl5qBgfEkCs"
      },
      "outputs": [],
      "source": [
        "# Plotting Observations\n",
        "sns.distplot(df['InterArrival'], kde=True);"
      ],
      "id": "Zdl5qBgfEkCs"
    },
    {
      "cell_type": "code",
      "execution_count": null,
      "metadata": {
        "id": "9-8o1cHoEkFZ"
      },
      "outputs": [],
      "source": [
        "# Plotting Observations\n",
        "sns.distplot(df['InterArrival'], fit=stats.expon, kde=False);"
      ],
      "id": "9-8o1cHoEkFZ"
    },
    {
      "cell_type": "code",
      "execution_count": null,
      "metadata": {
        "id": "WxAT7c-1op9l"
      },
      "outputs": [],
      "source": [
        "# Plotting Observations\n",
        "sns.distplot(df['InterArrival'], fit=stats.expon, kde=True);"
      ],
      "id": "WxAT7c-1op9l"
    },
    {
      "cell_type": "code",
      "execution_count": null,
      "metadata": {
        "id": "nZoI_fGXEkH_"
      },
      "outputs": [],
      "source": [
        "# Calculate the corresponding mean 4(loc) and standard distribution(scale) for our dataset\n",
        "loc, scale = stats.expon.fit(df['InterArrival'])\n",
        "print('loc = {0}\\tscale = {1}'.format(loc, scale))\n",
        "scale_arrive = scale"
      ],
      "id": "nZoI_fGXEkH_"
    },
    {
      "cell_type": "code",
      "execution_count": null,
      "metadata": {
        "id": "aImWtlv2ovoz"
      },
      "outputs": [],
      "source": [
        "# Plotting Observations\n",
        "sns.distplot(df['Service'],  kde=True);"
      ],
      "id": "aImWtlv2ovoz"
    },
    {
      "cell_type": "code",
      "execution_count": null,
      "metadata": {
        "id": "kT35N_VnkLEJ"
      },
      "outputs": [],
      "source": [
        "# Plotting Observations \n",
        "sns.distplot(df['Service'], fit=stats.expon, kde=False);"
      ],
      "id": "kT35N_VnkLEJ"
    },
    {
      "cell_type": "code",
      "execution_count": null,
      "metadata": {
        "id": "wx9YZFp5owad"
      },
      "outputs": [],
      "source": [
        "# Plotting Observations\n",
        "sns.distplot(df['Service'], fit=stats.expon, kde=True);"
      ],
      "id": "wx9YZFp5owad"
    },
    {
      "cell_type": "code",
      "execution_count": null,
      "metadata": {
        "id": "ymzF0ZxT0zJM"
      },
      "outputs": [],
      "source": [
        "#Plotting predictions of Service Times\n",
        "sns.distplot(perf1[\"Predictions\"], fit=stats.expon, kde=True);"
      ],
      "id": "ymzF0ZxT0zJM"
    },
    {
      "cell_type": "code",
      "execution_count": null,
      "metadata": {
        "id": "xAiJHQa2GlYn"
      },
      "outputs": [],
      "source": [
        "# Calculate the corresponding mean 4(loc) and standard distribution(scale) for our dataset\n",
        "loc, scale = expon.fit(df['Service'])\n",
        "print('loc = {0}\\tscale = {1}'.format(loc, scale))\n",
        "scale_service = scale"
      ],
      "id": "xAiJHQa2GlYn"
    },
    {
      "cell_type": "code",
      "source": [
        "# Checking Skewness in every column of our dataset\n",
        "from scipy.stats import skew\n",
        "from scipy.stats import kurtosis"
      ],
      "metadata": {
        "id": "i64l_KRM8piG"
      },
      "id": "i64l_KRM8piG",
      "execution_count": null,
      "outputs": []
    },
    {
      "cell_type": "code",
      "source": [
        "for col in df:\n",
        "  print(col)\n",
        "  print(skew(df[col]))\n",
        "\n",
        "  plt.figure()\n",
        "  sns.distplot(df[col])\n",
        "  plt.show()"
      ],
      "metadata": {
        "id": "ifUIJCNm8plO"
      },
      "id": "ifUIJCNm8plO",
      "execution_count": null,
      "outputs": []
    },
    {
      "cell_type": "code",
      "source": [
        "for col in df:\n",
        "  print(col)\n",
        "  print(kurtosis(df[col]))\n",
        "\n",
        "  plt.figure()\n",
        "  sns.distplot(df[col])\n",
        "  plt.show()"
      ],
      "metadata": {
        "id": "xpxMCDXG8psr"
      },
      "id": "xpxMCDXG8psr",
      "execution_count": null,
      "outputs": []
    },
    {
      "cell_type": "markdown",
      "metadata": {
        "id": "5d734bf8-88d8-4b8a-9ef3-2bed84641512"
      },
      "source": [
        "**_Student comments:_**\n",
        "\n"
      ],
      "id": "5d734bf8-88d8-4b8a-9ef3-2bed84641512"
    },
    {
      "cell_type": "markdown",
      "metadata": {
        "id": "1dba453a-2f4e-48a8-85bb-16508572351d"
      },
      "source": [
        "##### **c. Quantitative analysis of the regression**"
      ],
      "id": "1dba453a-2f4e-48a8-85bb-16508572351d"
    },
    {
      "cell_type": "markdown",
      "metadata": {
        "id": "0bf89053-3c57-4605-be31-5ac43a59cdbe"
      },
      "source": [
        "Here we evaluate the Kolmogorov–Smirnov (KS) test or the $R^2$ score to\n",
        "assess the goodness of the fit.\n",
        "\n",
        "The former is a accurate metric and does not\n",
        "require the creation of an arbitrary histogram, yet latter is typically more\n",
        "intuitive."
      ],
      "id": "0bf89053-3c57-4605-be31-5ac43a59cdbe"
    },
    {
      "cell_type": "markdown",
      "metadata": {
        "id": "7c9662a0-7b62-4844-a4d2-b3a68078f90b"
      },
      "source": [
        "**_Student comments:_**\n",
        "\n",
        "The KS test rejects the null hypothesis in one case, the service times in\n",
        "period 2 and nearly rejects it for both the daily distributions of arrival \n",
        "intervals and service times. \n",
        "This is a indicator that making approximations to the queueing model based on\n",
        "Poisson process are prone to failures.\n",
        "\n",
        "With respect to $R^2$, the results indicate acceptable agreement between most\n",
        "of the observations and the respective model predictions. This is rather\n",
        "surprising given the huge gap between the model the large time scale \n",
        "predictions, but it is understandable, given the probability of such events\n",
        "decays exponentially and thus there impact on $R^2$ become residual."
      ],
      "id": "7c9662a0-7b62-4844-a4d2-b3a68078f90b"
    },
    {
      "cell_type": "markdown",
      "metadata": {
        "id": "f6fc982b-8771-48fd-a38f-cf95e9a55eb1"
      },
      "source": [
        "#### Exercise 1.C.: **Average utilisation, waiting time and length of queue given** $M/M/6/k$"
      ],
      "id": "f6fc982b-8771-48fd-a38f-cf95e9a55eb1"
    },
    {
      "cell_type": "markdown",
      "metadata": {
        "id": "c430fc62-c1cf-43c6-8625-00fbfe6b6bd1"
      },
      "source": [
        "1. Develop a theoretical model for queuing system\n",
        "   3. Calculate average utilisation, waiting time and length of queue given 6\n",
        "      servers. Is such a system stable? (See hints) "
      ],
      "id": "c430fc62-c1cf-43c6-8625-00fbfe6b6bd1"
    },
    {
      "cell_type": "markdown",
      "metadata": {
        "id": "5cc4f56a-2bbe-4731-9427-56bc6516ca9c"
      },
      "source": [
        "We start by defining functions that allow for the evaluation of\n",
        "$P_s(r_1, r_2, c, k)$ for the general queue $M/M/c/k$.\n",
        "As show in the theoretical analysis, we must first evaluate\n",
        "$P_0(r_1, r_2, c, k)$\n",
        "\n",
        "Here make use of the previously define functions for the general Markovian \n",
        "queue and Little's waiting time rules\n",
        "- `mmck_p0`\n",
        "- `mmck_prob`\n",
        "- `mmck_mean`\n",
        "- `mmck_queue`\n",
        "- `wait_little`\n",
        "\n",
        "to evaluate the average utilisation, waiting time and length of queue given \n",
        "$M/M/6/k$."
      ],
      "id": "5cc4f56a-2bbe-4731-9427-56bc6516ca9c"
    },
    {
      "cell_type": "code",
      "execution_count": null,
      "metadata": {
        "id": "20f29a65-071f-4d9d-8b3e-c17e3458bd7a"
      },
      "outputs": [],
      "source": [
        "# finite number of servers and infinite queue\n",
        "r1 = 1/scale_arrive\n",
        "r2 = 1/scale_service\n",
        "c, k = 6, 1000\n",
        "\n",
        "util = r1/(c*r2)\n",
        "wait0, waitq, wait2 = wait_little(r1, r2, c, k)\n",
        "queue = mmck_queue(r1, r2, c, k)\n",
        "\n",
        "t_wait = waitq\n",
        "t_total = wait0\n",
        "t_queue = queue\n",
        "\n",
        "print(util, wait0, waitq, queue)"
      ],
      "id": "20f29a65-071f-4d9d-8b3e-c17e3458bd7a"
    },
    {
      "cell_type": "code",
      "execution_count": null,
      "metadata": {
        "id": "3bcc01e0-3aa0-4d40-b1c8-4de0042f9d83"
      },
      "outputs": [],
      "source": [
        "# is the MMck model stable for all cases?\n",
        "\n",
        "# From the stability criterion, the mininum number of servers\n",
        "(1/scale_arrive) / (1/scale_service)"
      ],
      "id": "3bcc01e0-3aa0-4d40-b1c8-4de0042f9d83"
    },
    {
      "cell_type": "markdown",
      "metadata": {
        "id": "c9fe8bc8-7498-494c-bf83-33a040c35962"
      },
      "source": [
        "**_Student comments:_**\n",
        "\n"
      ],
      "id": "c9fe8bc8-7498-494c-bf83-33a040c35962"
    },
    {
      "cell_type": "markdown",
      "metadata": {
        "id": "1ded5b14-7b0b-40d0-b588-4ef4a1f7db18"
      },
      "source": [
        "## C. Queuing simulation in Python with Simpy"
      ],
      "id": "1ded5b14-7b0b-40d0-b588-4ef4a1f7db18"
    },
    {
      "cell_type": "markdown",
      "metadata": {
        "id": "3496d2ed-3be9-4f0f-a9ae-87542b2e321f"
      },
      "source": [
        "### Exercise 2.: Numerical queues"
      ],
      "id": "3496d2ed-3be9-4f0f-a9ae-87542b2e321f"
    },
    {
      "cell_type": "markdown",
      "metadata": {
        "id": "2087ab26-33d8-4b09-99e3-7a5d25edb957"
      },
      "source": [
        "2. Numerical queuing models\n",
        "   1. Implement the corresponding queuing model as part of an event-based\n",
        "      simulator.\n",
        "   2. Use it to replicate the theoretical results based on simulation.\n",
        "   3. Do several runs and notice simulation variance. Consider the mean waiting\n",
        "      time W. In the limit of many simulations how should the mean waiting time\n",
        "      be distributed? Does the mean of this distribution converge to the\n",
        "      analytical result? "
      ],
      "id": "2087ab26-33d8-4b09-99e3-7a5d25edb957"
    },
    {
      "cell_type": "markdown",
      "metadata": {
        "id": "f4486155-d2fb-4c5e-bec9-8361c8473d2b"
      },
      "source": [
        "#### Exercise 2.A.: **Queues with [Simpy](https://simpy.readthedocs.io/en/latest/topical_guides/index.html)**"
      ],
      "id": "f4486155-d2fb-4c5e-bec9-8361c8473d2b"
    },
    {
      "cell_type": "markdown",
      "metadata": {
        "id": "1f1d5856-ab45-4caa-8075-94433c3e08d7"
      },
      "source": [
        "2. Numerical queuing models\n",
        "   1. Implement the corresponding queuing model as part of an event-based\n",
        "      simulator.\n",
        "\n",
        "**Requirements for the simulator:**\n",
        "- `resource_monitor`: monitors the simulator resources, _i.e._ the queue\n",
        "- `patient`: defines how the patient is processed \n",
        "- `spawn_patients`: instanciates the each patient on the simulation \n",
        "   environment\n",
        "- `ggck_sim`: the simulator function, sets the simulation environment for \n",
        "   generic distributions (G), with multiple servers (c) and possibly finite\n",
        "   system size (k)\n",
        "- `mmck_sim`: a specialized simulator for Markovian queues\n",
        "- additional functions for auxiliar purposes\n",
        "\n",
        "You are free to use data structures that are expandable, say the native `list` \n",
        "type or mutable, and also expandable, `numpy.ndarray` type. Below follows an \n",
        "example of such a function. Here, we set the function that will access the\n",
        "queue resource, extract relevant information, stores it in the cache list, \n",
        "while 'returning' nothing, _i.e._ has no return statement.\n",
        "\n",
        "**Notes:** \n",
        "\n",
        "1. Simpy _IS NOT_ kind to functions with return statement\n",
        "\n",
        "   A lot of pain and anguish is to be expected from writing functions and \n",
        "   methods based the traditional setup, \n",
        "   namely `foo(*args, **kwargs) -> return`. Do not worry, python functions and\n",
        "   methods do not require a return statement.\n",
        "\n",
        "   Simpy works best if we use `cache` variables for all functions and methods\n",
        "   that define simpy processes or internal definitions to processes.\n",
        "   \n",
        "2. Be careful with the argument names of the functions.\n",
        "\n",
        "   The functions required for the simulator include all parameters required for\n",
        "   the entire assignment. Arguments with default values are optional and \n",
        "   should cause no harm."
      ],
      "id": "1f1d5856-ab45-4caa-8075-94433c3e08d7"
    },
    {
      "cell_type": "code",
      "execution_count": null,
      "metadata": {
        "id": "e6d5ad0a-d526-4e8e-9f97-1837971cfbef"
      },
      "outputs": [],
      "source": [
        "def resource_monitor(queue, cache):\n",
        "    \"\"\"Single queue monitor, increments the cache list.\n",
        "\n",
        "    Reads queue capacity, served and measures queue length, and appends\n",
        "    to cache list.\n",
        "\n",
        "    Parameters\n",
        "    ----------\n",
        "    queue : simpy.Resource, simpy.PriorityResource\n",
        "        simpy's queuing (priority) resource\n",
        "    cache : list\n",
        "        list to collect queue utilization\n",
        "    \"\"\"\n",
        "    cap = queue.capacity\n",
        "    served = queue.count\n",
        "    queue_len = len(queue.queue)\n",
        "\n",
        "    cache.append([cap, served, queue_len])\n",
        "\n",
        "# this is an auxiliar function which also makes no use of return statements\n",
        "def print_if(test, msg):\n",
        "    \"\"\"One line conditional printing.\"\"\"\n",
        "    if test:\n",
        "        print(msg)\n",
        "# --------------------------------------------------------------------------- #"
      ],
      "id": "e6d5ad0a-d526-4e8e-9f97-1837971cfbef"
    },
    {
      "cell_type": "code",
      "execution_count": null,
      "metadata": {
        "id": "9da999c3-55a1-4fdf-b97e-5d2c3330b349"
      },
      "outputs": [],
      "source": [
        "def patient(env, queue, number, t_in, service, data,\n",
        "            prio=0, pool=None, pool_schedule=None,\n",
        "            queue_limit=None, refused=None,\n",
        "            verbose=False, verbose_deep=False):\n",
        "    \"\"\"Define the patient process with variable priority and finite \n",
        "    pool of doctors.\n",
        "\n",
        "    Key features of this function:\n",
        "        1. check if there is space in queue for the patient and decide to\n",
        "           process or reject said person\n",
        "\n",
        "           a. process patient requires \n",
        "              1. request resource and wait until available \n",
        "                 (ex.5 onwards the request requires priority)\n",
        "              2. (ex.5 only) request a doctor from the pool and wait if\n",
        "                 necessary\n",
        "              3. 'service' the patient, i.e. yield until the service time\n",
        "                 finishes\n",
        "              4. (ex.5 only) return doctors to the pool\n",
        "              *. in all previous steps\n",
        "                 a. record time\n",
        "                 b. log relevant data\n",
        "\n",
        "           b. refuse patient\n",
        "              1. record time\n",
        "              2. log basic information\n",
        "\n",
        "    In this function, priority only affects the patient queuing order, once\n",
        "    in service it longer intervenes. For intervining queues, consider\n",
        "    Simpy's more general class `simpy.PreemptiveResource`.\n",
        "\n",
        "    Queue limit throws away this patient, regardless of its priority!\n",
        "\n",
        "    This version only allocates one doctor per patient!\n",
        "\n",
        "    Parameters:\n",
        "    -----------\n",
        "    env : simpy.core.Environment\n",
        "        simpy's simulation environment\n",
        "    queue : simpy.Resource, simpy.PriorityResource\n",
        "        simpy's queuing (priority) resource\n",
        "    pool : simpy.Container\n",
        "        simpy's container for dynamic quantities, this represents the pool of \n",
        "        avaliable doctors\n",
        "    pool_schedule : np.ndarray of int\n",
        "        number of doctors per hour\n",
        "    number : int\n",
        "        patient ID, which is also the arrival number\n",
        "    t_in : int, float\n",
        "        arrival timestamp, this is not the arrival interval\n",
        "    service : int, float\n",
        "        service time\n",
        "    data : list of floats\n",
        "        patient ID, wait for service, total time in system (wait + service)\n",
        "        and priority\n",
        "    prio : int, default=None\n",
        "        priority value, lower values have higher priority\n",
        "    queue_limit : int, default=None\n",
        "        set a queue limit, if None the queue can as large as the available memory\n",
        "    refused : list, default=None\n",
        "        patient ID, refuse time and prio, only required if queue_limit is finite.\n",
        "    verbose, verbose_deep : bool, default=False\n",
        "        flags to control verbosity\n",
        "    \"\"\"\n",
        "    # ---- CODE START ---- #\n",
        "    data_patient = []\n",
        "    if verbose:\n",
        "      print(f'Patient {number} (with priority {prio}) arriving in ER room at {env.now}')\n",
        "    with queue.request() as req:\n",
        "      start = env.now\n",
        "      if queue_limit != None:\n",
        "        if queue.count >= queue_limit:\n",
        "          refused.append([number, env.now, prio])\n",
        "          if verbose:\n",
        "            print(f'There is no room for patient {number} (with priority {prio}) in the ER room. They leave at {env.now}')\n",
        "      else:\n",
        "        # Request spot in the queue\n",
        "        yield req\n",
        "        data_patient.append(number)\n",
        "        # Waiting time\n",
        "        wait = env.now - start\n",
        "        if verbose:\n",
        "          print(f'Patient {number} (with priority {prio}) has been waiting {wait} minutes (at {env.now}).')\n",
        "        data_patient.append(wait)\n",
        "        # Service time\n",
        "        yield env.timeout(service)\n",
        "        if verbose:\n",
        "          print(f'Patient {number} (with priority {prio}) has been getting service for {service} minutes (at {env.now}).')          \n",
        "        total = wait + service\n",
        "        data_patient.append(total)\n",
        "        # Priority\n",
        "        data_patient.append(prio)\n",
        "        #Leave\n",
        "        if verbose:\n",
        "          print(f'Patient {number} (with priority {prio}) leaves after a total of {wait + service} minutes at {env.now}.')\n",
        "\n",
        "        data.append(data_patient)\n",
        "\n",
        "    # ---- CODE END ------ #"
      ],
      "id": "9da999c3-55a1-4fdf-b97e-5d2c3330b349"
    },
    {
      "cell_type": "code",
      "execution_count": null,
      "metadata": {
        "id": "9d5a404d-72eb-4ae9-be94-3a67a4a60688"
      },
      "outputs": [],
      "source": [
        "def spawn_patients(env, queue, intervals, services, data,\n",
        "                   priorities=None, pool=None, pool_schedule=None,\n",
        "                   queue_limit=None, refused=None, \n",
        "                   verbose=False, verbose_deep=False):\n",
        "    \"\"\"Initializes patienties with priority and doctor pools in the \n",
        "    simulation environment.\n",
        "\n",
        "    Key features of this function:\n",
        "        1. patients are defined by equal sized arrays for intervals, service\n",
        "           times and priorites (ex.5 onwards)\n",
        "        2. for each patient\n",
        "           a. wait for its arrival\n",
        "           b. process the\n",
        "            respective patient with the correct data and times\n",
        "\n",
        "    See `patient` and `spawn_patients` for details in missing\n",
        "    parameters.\n",
        "\n",
        "    Parameters:\n",
        "    ----------\n",
        "    intervals, services : np.ndarray of int, float\n",
        "        arrival interval and service time\n",
        "    priority : np.ndarray of int, default=None\n",
        "        arr\n",
        "    \"\"\"\n",
        "    # ---- CODE START ---- #\n",
        "\n",
        "    t_in = 0\n",
        "    \n",
        "    for i, interval_i in enumerate(intervals):\n",
        "    \n",
        "\n",
        "        yield env.timeout(intervals[i])\n",
        "\n",
        "        number = int(i) + 1\n",
        "        t_in += intervals[i]\n",
        "        service = services[i]\n",
        "        \n",
        "        if priorities != None:\n",
        "            prio = priorities[i]\n",
        "        else:\n",
        "            prio = None     \n",
        "\n",
        "        env.process(patient(env, queue, number, t_in, service, data,\n",
        "              prio=prio, \n",
        "              pool=pool, pool_schedule=pool_schedule,\n",
        "              queue_limit=queue_limit,\n",
        "              refused = refused,\n",
        "              verbose=verbose))\n",
        "              \n",
        "    # ---- CODE END ------ #"
      ],
      "id": "9d5a404d-72eb-4ae9-be94-3a67a4a60688"
    },
    {
      "cell_type": "code",
      "execution_count": null,
      "metadata": {
        "id": "8d845a24-5653-411f-af3e-b18669d6eb32"
      },
      "outputs": [],
      "source": [
        "def ggck_sim(intervals, services, c, k=None,\n",
        "               priorities=None, pool_schedule=None,\n",
        "               monitor_interval=1, initial_time=0,\n",
        "               verbose=False, verbose_deep=False):\n",
        "\n",
        "    \"\"\"Simple simulator for G/G/c/k queuing systems.\n",
        "\n",
        "    Key features of this function:\n",
        "        1. load simpy environments and resources\n",
        "        2. process `spawn_patient` function\n",
        "        3. evolve the simulation in small steps and monitor resources\n",
        "\n",
        "    Parameters\n",
        "    ----------\n",
        "    intervals, services : 1d np.ndarray, list of float, int\n",
        "        lists or arrays with the arrival intervals and service times in the \n",
        "        same time scale. Arrays must have equal length.\n",
        "    c : int\n",
        "        number of servers\n",
        "    k : int, default=None\n",
        "        total queue size, if None the system size is infinte in principle, \n",
        "        but eventually limited by system memory\n",
        "    priorities : 1d np.ndarray, list of int, default=None\n",
        "        patient priority\n",
        "    pool_schedule : np.ndarray, default=None\n",
        "        maximum number of doctors in the pool at any hour\n",
        "    monitor_interval : int, float, default=1\n",
        "        time interval for queue monitoring tool, must be positive\n",
        "    initial_time : int, float, default=0\n",
        "        initial simulation time\n",
        "    verbose, verbose_deep : bool, default=False\n",
        "        flags to control verbosity\n",
        "\n",
        "    Returns\n",
        "    -------\n",
        "    data : 3d np.ndarray of float\n",
        "        index of arrival, wait for service, total time in system \n",
        "        (wait + services)\n",
        "    data_res : 2d np.ndarray of int\n",
        "        queue capacity, service, and queue length\n",
        "    refused : 2d np.ndarray of float\n",
        "        index of refused arrival and respective refusal time\n",
        "    \"\"\"\n",
        "    # ---- CODE START ---- #    \n",
        "    env = simpy.Environment()\n",
        "    queue = simpy.Resource(env, c)\n",
        "\n",
        "    data=[]\n",
        "    data_res=[]\n",
        "    refused=[]\n",
        "\n",
        "    env.process(spawn_patients(env, queue, intervals, services, data,\n",
        "                   priorities=None, pool=None, pool_schedule=None,\n",
        "                   queue_limit=k, refused=refused, \n",
        "                   verbose=False, verbose_deep=False))\n",
        "\n",
        "    times = np.arange(1, np.sum(intervals)+1)\n",
        "\n",
        "    for ti in times:   \n",
        "      env.run(until=ti)\n",
        "      resource_monitor(queue, data_res)    \n",
        "    env.run()\n",
        "    resource_monitor(queue, data_res)    \n",
        "\n",
        "    np.set_printoptions(suppress = True)\n",
        "                        \n",
        "    data = np.array(data)\n",
        "    data_res = np.array(data_res)\n",
        "    refused = np.array(refused)\n",
        "\n",
        "    return data, data_res, refused\n",
        "    \n",
        "    # ---- CODE END ------ #\n",
        "    "
      ],
      "id": "8d845a24-5653-411f-af3e-b18669d6eb32"
    },
    {
      "cell_type": "code",
      "execution_count": null,
      "metadata": {
        "id": "0cf964bf-75c8-4b56-b4fd-f673e8a75639"
      },
      "outputs": [],
      "source": [
        "def mmck_sim(number, \n",
        "             p_arrival={'scale': 0.5},\n",
        "             p_service={'scale': 1.0},\n",
        "             c=1, k=None,\n",
        "             sim_runs=1,\n",
        "             dist_arrival=None, dist_service=None, rng=None,\n",
        "             monitor_interval=5, initial_time=0, return_times=False,\n",
        "             verbose=False, verbose_deep=False):\n",
        "  \n",
        "    \"\"\"Run multiple simulations with exponentially distributed arrivals \n",
        "    intervals and services times.\n",
        "\n",
        "    Makes use of the ggck queue simulator `ggck_sim` and observes its\n",
        "    Parameters and Return values, so we only highlight differenteces\n",
        "\n",
        "    Parameters\n",
        "    ----------\n",
        "    number : int\n",
        "        number of arrivals to be considered\n",
        "    p1, p2 : dict\n",
        "        dictionary with required parameters for the desired distribution\n",
        "    sim_runs : int, default=1\n",
        "        number of simulation to be ran\n",
        "    dist_arrival, dist_service : function, default=None\n",
        "        numpy random number generator builtin functions for distributions,\n",
        "        e.g. `rng.exponential` or `rng.gamma`. This must be consistent with\n",
        "        dictionary `p1` and `p2`\n",
        "    rng : np.random._generator.Generator, default=None\n",
        "        numpy's random number generator to be used to create arrival\n",
        "        intervals and service times\n",
        "\n",
        "    Returns\n",
        "    -------\n",
        "    data : 2d/3d np.ndarray of float\n",
        "        index of arrival and respective waiting times per simulation run\n",
        "    data_res : list of 2d np.ndarray of int\n",
        "        queue capacity, service, and queue length per simulation run\n",
        "    refuses : list of 2d np.ndarray of float\n",
        "        index of refused arrival and respective refusal time per simulation \n",
        "        run\n",
        "    \"\"\"\n",
        "    # ---- CODE START ---- #\n",
        "    data = []\n",
        "    data_res=[]\n",
        "    refused = []\n",
        "    meanwaitingtimes = []\n",
        "    \n",
        "    for i in range(sim_runs):\n",
        "      \n",
        "      if rng is None:\n",
        "        rng = np.random.default_rng()\n",
        "\n",
        "      env = simpy.Environment()\n",
        "      queue = simpy.Resource(env, c)\n",
        "\n",
        "      if dist_arrival is None:\n",
        "        dist_arrival = rng.exponential\n",
        "      if dist_service is None:\n",
        "        dist_service = rng.exponential\n",
        "\n",
        "      intervals = dist_arrival(**p_arrival, size=number)\n",
        "      services = dist_arrival(**p_service, size=number)\n",
        "           \n",
        "      data, data_res, refused = ggck_sim(intervals, services, c, k=k,\n",
        "               priorities=None, pool_schedule=None,\n",
        "               monitor_interval=1, initial_time=0,\n",
        "               verbose=False, verbose_deep=False)\n",
        "      \n",
        "      meanwaitingtimes.append(data[:, 1].mean())\n",
        "    \n",
        "      np.set_printoptions(suppress = True)\n",
        "\n",
        "    data = np.array(data)\n",
        "    data_res = np.array(data_res)\n",
        "    refused = np.array(refused)\n",
        "\n",
        "    return data, data_res, refused, meanwaitingtimes\n",
        "    # ---- CODE END ------ #"
      ],
      "id": "0cf964bf-75c8-4b56-b4fd-f673e8a75639"
    },
    {
      "cell_type": "markdown",
      "metadata": {
        "id": "a3774ecb-157a-4920-b964-7309e43aba51"
      },
      "source": [
        "#### Exercise 2.B.: **Replicate theoretical results**"
      ],
      "id": "a3774ecb-157a-4920-b964-7309e43aba51"
    },
    {
      "cell_type": "markdown",
      "metadata": {
        "id": "3e36b246-b478-4d22-b322-ff1de57c3365"
      },
      "source": [
        "2. Numerical queuing models\n",
        "   2. Use it to replicate the theoretical results based on simulation.`"
      ],
      "id": "3e36b246-b478-4d22-b322-ff1de57c3365"
    },
    {
      "cell_type": "code",
      "execution_count": null,
      "metadata": {
        "id": "71297fa4-4752-48c5-b1cf-ea5f94714108"
      },
      "outputs": [],
      "source": [
        "# simulate the queue with the observed arrival and service times\n",
        "c = 6\n",
        "k = None\n",
        "\n",
        "# here, you only need to pass four arguments to the function\n",
        "# ---- CODE START ---- #\n",
        "\n",
        "waits_d, logs_d, refused_d = ggck_sim(df['InterArrival'], df['Service'], c, k)\n",
        "\n",
        "print(\"Mean waiting time:\", waits_d[:, 1].mean())\n",
        "print(\"Mean total time:\", waits_d[:, 2].mean())\n",
        "print(\"Mean queue length:\", logs_d[:, 2].mean())\n",
        "# ---- CODE END ------ #"
      ],
      "id": "71297fa4-4752-48c5-b1cf-ea5f94714108"
    },
    {
      "cell_type": "markdown",
      "metadata": {
        "id": "a1ae407d-34ce-4f4a-aca3-a940ec7ca64f"
      },
      "source": [
        "**_Student comments:_**\n",
        "\n",
        "Results show that waiting time estimates provided by the analytic models based\n",
        "on the MMck queue, considerably underestimate (up to 50%) those found by\n",
        "running the data on a $G/G/c/k$ queue simulator."
      ],
      "id": "a1ae407d-34ce-4f4a-aca3-a940ec7ca64f"
    },
    {
      "cell_type": "markdown",
      "metadata": {
        "id": "8432f561-ac18-404e-bd68-b22001a66aed"
      },
      "source": [
        "#### Exercise 2.C.: **Explore results from $G/G/c/k$ and $M/M/c/k$ simulations**"
      ],
      "id": "8432f561-ac18-404e-bd68-b22001a66aed"
    },
    {
      "cell_type": "markdown",
      "metadata": {
        "id": "5894c755-f66a-43b5-a037-7976b3be0bcc"
      },
      "source": [
        "2. Numerical queuing models\n",
        "   3. Do several runs and notice simulation variance. Consider the mean waiting\n",
        "      time W. In the limit of many simulations how should the mean waiting time\n",
        "      be distributed? Does the mean of this distribution converge to the\n",
        "      analytical result? "
      ],
      "id": "5894c755-f66a-43b5-a037-7976b3be0bcc"
    },
    {
      "cell_type": "code",
      "source": [
        "# let us visualize the results from the GGck simulation and the MMck simulation runs 0, 2"
      ],
      "metadata": {
        "id": "lD7foB9HVf8H"
      },
      "id": "lD7foB9HVf8H",
      "execution_count": null,
      "outputs": []
    },
    {
      "cell_type": "code",
      "source": [
        "# Running G/G/c/k for vizualizations\n",
        "c = 6\n",
        "k = None\n",
        "waits_d, logs_d, refused_d = ggck_sim(df['InterArrival'], df['Service'], c, k)"
      ],
      "metadata": {
        "id": "PX8s3Lq-V-Z7"
      },
      "id": "PX8s3Lq-V-Z7",
      "execution_count": null,
      "outputs": []
    },
    {
      "cell_type": "code",
      "source": [
        "g_waitdf = pd.DataFrame()\n",
        "g_waitdf['patientIDs'] = waits_d[:, 0]\n",
        "g_waitdf['waitingtimes'] = waits_d[:, 1]\n",
        "g_waitdf['totaltimes'] = waits_d[:, 2]\n",
        "\n",
        "g_waitdf['waitingtimes_non0'] = g_waitdf['waitingtimes']\n",
        "g_waitdf.loc[g_waitdf['waitingtimes_non0'] == 0.0, 'waitingtimes_non0'] = np.nan\n",
        "\n",
        "g_waitdf['waitingtimes_non0'].max()"
      ],
      "metadata": {
        "id": "h_30LCK9VTYw"
      },
      "id": "h_30LCK9VTYw",
      "execution_count": null,
      "outputs": []
    },
    {
      "cell_type": "code",
      "source": [
        "g_logdf = pd.DataFrame()\n",
        "g_logdf['capacity'] = logs_d[:, 0]\n",
        "g_logdf['served'] = logs_d[:, 1]\n",
        "g_logdf['queuelength'] = logs_d[:, 2]\n",
        "\n",
        "g_logdf.head()"
      ],
      "metadata": {
        "id": "K2UlDGGwVbS-"
      },
      "id": "K2UlDGGwVbS-",
      "execution_count": null,
      "outputs": []
    },
    {
      "cell_type": "code",
      "source": [
        "plt.scatter(g_waitdf.index, g_waitdf['waitingtimes'])\n",
        "plt.title('Waiting time in queue')\n",
        "plt.xlabel(\"Patient ID\")\n",
        "plt.ylabel(\"Time (min)\")\n",
        "plt.show()"
      ],
      "metadata": {
        "id": "TLHcQso0cutp"
      },
      "id": "TLHcQso0cutp",
      "execution_count": null,
      "outputs": []
    },
    {
      "cell_type": "code",
      "source": [
        "plt.hist(g_waitdf['waitingtimes'], 30)\n",
        "plt.title('Waiting time in queue')\n",
        "plt.xlabel(\"Time (min)\")\n",
        "plt.ylabel(\"Frequency\")\n",
        "plt.show()"
      ],
      "metadata": {
        "id": "LoCAuYj6dlUB"
      },
      "id": "LoCAuYj6dlUB",
      "execution_count": null,
      "outputs": []
    },
    {
      "cell_type": "code",
      "source": [
        "plt.hist(g_waitdf['waitingtimes_non0'], 30)\n",
        "plt.title('Waiting time in queue (with 0.0 excluded)')\n",
        "plt.xlabel(\"Time (min)\")\n",
        "plt.ylabel(\"Frequency\")\n",
        "plt.show()"
      ],
      "metadata": {
        "id": "G3QpoMvhrg-1"
      },
      "id": "G3QpoMvhrg-1",
      "execution_count": null,
      "outputs": []
    },
    {
      "cell_type": "code",
      "source": [
        "plt.scatter(g_waitdf.index, g_waitdf['totaltimes'])\n",
        "plt.title('Total time in system')\n",
        "plt.xlabel(\"Patient ID\")\n",
        "plt.ylabel(\"Time (min)\")\n",
        "plt.show()"
      ],
      "metadata": {
        "id": "PTGwvpzxdH93"
      },
      "id": "PTGwvpzxdH93",
      "execution_count": null,
      "outputs": []
    },
    {
      "cell_type": "code",
      "source": [
        "plt.hist(g_waitdf['totaltimes'], 30)\n",
        "plt.title('Total time in the system')\n",
        "plt.xlabel(\"Time (min)\")\n",
        "plt.ylabel(\"Frequency\")\n",
        "plt.show()"
      ],
      "metadata": {
        "id": "6YgecYZtnlGY"
      },
      "id": "6YgecYZtnlGY",
      "execution_count": null,
      "outputs": []
    },
    {
      "cell_type": "code",
      "source": [
        "plt.scatter(g_logdf.index, g_logdf['served'])\n",
        "plt.title('Number of patients served per minute')\n",
        "plt.xlabel(\"Time interval (min)\")\n",
        "plt.ylabel(\"Served patients\")\n",
        "plt.show()"
      ],
      "metadata": {
        "id": "YcbHsx0fsb-2"
      },
      "id": "YcbHsx0fsb-2",
      "execution_count": null,
      "outputs": []
    },
    {
      "cell_type": "code",
      "source": [
        "plt.plot(g_logdf['queuelength'])\n",
        "plt.title('Length of the queue per minute')\n",
        "plt.xlabel(\"Time interval (min)\")\n",
        "plt.ylabel(\"Number of patients in the queue\")\n",
        "plt.show()"
      ],
      "metadata": {
        "id": "SNMg3Veds6kj"
      },
      "id": "SNMg3Veds6kj",
      "execution_count": null,
      "outputs": []
    },
    {
      "cell_type": "code",
      "source": [
        "# Running M/M/c/k for vizualizations\n",
        "c = 6\n",
        "k = None\n",
        "number = 424\n",
        "sim_runs = 100\n",
        "\n",
        "waits_d, logs_d, refused_d, meanwaits = mmck_sim(number, \n",
        "             p_arrival={'scale': scale_arrive},\n",
        "             p_service={'scale': scale_service},\n",
        "             c=c, k=k,\n",
        "             sim_runs=sim_runs,\n",
        "             dist_arrival=None, dist_service=None, rng=None,\n",
        "             monitor_interval=5, initial_time=0, return_times=False,\n",
        "             verbose=False, verbose_deep=False)"
      ],
      "metadata": {
        "id": "Uj2ln0kxfWhp"
      },
      "id": "Uj2ln0kxfWhp",
      "execution_count": null,
      "outputs": []
    },
    {
      "cell_type": "code",
      "source": [
        "m_waitdf = pd.DataFrame()\n",
        "m_waitdf['patientIDs'] = waits_d[:, 0]\n",
        "m_waitdf['waitingtimes'] = waits_d[:, 1]\n",
        "m_waitdf['totaltimes'] = waits_d[:, 2]\n",
        "\n",
        "m_waitdf['waitingtimes_non0'] = m_waitdf['waitingtimes']\n",
        "m_waitdf.loc[m_waitdf['waitingtimes_non0'] == 0.0, 'waitingtimes_non0'] = np.nan\n",
        "\n",
        "m_waitdf.head()"
      ],
      "metadata": {
        "id": "tf2BOxGikI_D"
      },
      "id": "tf2BOxGikI_D",
      "execution_count": null,
      "outputs": []
    },
    {
      "cell_type": "code",
      "source": [
        "m_logdf = pd.DataFrame()\n",
        "m_logdf['capacity'] = logs_d[:, 0]\n",
        "m_logdf['served'] = logs_d[:, 1]\n",
        "m_logdf['queuelength'] = logs_d[:, 2]\n",
        "\n",
        "m_logdf.head()"
      ],
      "metadata": {
        "id": "tI3GppoakQDz"
      },
      "id": "tI3GppoakQDz",
      "execution_count": null,
      "outputs": []
    },
    {
      "cell_type": "code",
      "source": [
        "print(\"M/M/c/k theoretical model\")\n",
        "print(\"Mean waiting time:\", round(t_wait,2))\n",
        "print(\"Mean total time:\", round(t_total,2))\n",
        "print(\"Mean queue length:\", round(t_queue,2))\n",
        "print(\"\")\n",
        "print(\"G/G/c/k sim\")\n",
        "print(\"Mean waiting time:\", round(g_waitdf['waitingtimes'].mean(),2))\n",
        "print(\"Mean total time:\", round(g_waitdf['totaltimes'].mean(),2))\n",
        "print(\"Mean queue length:\", round(g_logdf['queuelength'].mean(),2))\n",
        "print(\"\")\n",
        "print(\"M/M/c/k sim\")\n",
        "print(\"Mean waiting time:\", round(m_waitdf['waitingtimes'].mean(),2))\n",
        "print(\"sd:\", round(m_waitdf['waitingtimes'].std(),2))\n",
        "print(\"Mean total time:\", round(m_waitdf['totaltimes'].mean(),2))\n",
        "print(\"sd:\", round(m_waitdf['totaltimes'].std(),2))\n",
        "print(\"Mean queue length:\", round(m_logdf['queuelength'].mean(),2))\n",
        "print(\"sd:\", round(m_logdf['queuelength'].std(),2))"
      ],
      "metadata": {
        "id": "ZRxg4FB6pfXh"
      },
      "id": "ZRxg4FB6pfXh",
      "execution_count": null,
      "outputs": []
    },
    {
      "cell_type": "code",
      "source": [
        "sns.distplot(meanwaits, fit=stats.norm,  kde=True);"
      ],
      "metadata": {
        "id": "MP9R4GrIbx9f"
      },
      "id": "MP9R4GrIbx9f",
      "execution_count": null,
      "outputs": []
    },
    {
      "cell_type": "markdown",
      "metadata": {
        "id": "58b7121a-a23a-4085-b4c6-be6c0ae657d3"
      },
      "source": [
        "**_Student comments:_**\n",
        "\n"
      ],
      "id": "58b7121a-a23a-4085-b4c6-be6c0ae657d3"
    },
    {
      "cell_type": "markdown",
      "metadata": {
        "id": "2268ee6d-7577-4d70-9c0e-b2f1520bc412"
      },
      "source": [
        "**_Student comments:_**\n",
        "\n"
      ],
      "id": "2268ee6d-7577-4d70-9c0e-b2f1520bc412"
    },
    {
      "cell_type": "markdown",
      "metadata": {
        "id": "30c7bea2-0b2c-4558-bc1a-552cd4be9c67"
      },
      "source": [
        "### Exercise 3.: **Service team size analysis**"
      ],
      "id": "30c7bea2-0b2c-4558-bc1a-552cd4be9c67"
    },
    {
      "cell_type": "markdown",
      "metadata": {
        "id": "06caffbf-07a2-4c05-b7f8-578eb4175c91"
      },
      "source": [
        "3. Service teams size \n",
        "   1. Run simulations with server teams ranging from 3 to 9 elements based on\n",
        "      exercise the general queue $G/G/c/k$.\n",
        "   2. Is the queue stable?\n",
        "   3. Plot the corresponding waiting-time distributions of the system. \n",
        "      Describe the changes. Also, plot the mean waiting time as a function of\n",
        "      the number of servers. How does the marginal value of adding more \n",
        "      servers develop? From a pure efficiency argument how many servers should\n",
        "      the hospital employ?"
      ],
      "id": "06caffbf-07a2-4c05-b7f8-578eb4175c91"
    },
    {
      "cell_type": "markdown",
      "metadata": {
        "id": "5ea7f8b6-607c-4d69-a7b7-ce9dda74cf0a"
      },
      "source": [
        "#### Exercise 3.A.: **Run simulations**"
      ],
      "id": "5ea7f8b6-607c-4d69-a7b7-ce9dda74cf0a"
    },
    {
      "cell_type": "markdown",
      "metadata": {
        "id": "44b59289-0062-40c5-8b1b-0ff0e3ef9e5c"
      },
      "source": [
        "3. Service teams size \n",
        "   1. Run simulations with server teams ranging from 1 to 9 elements based on\n",
        "      exercise the general queue $G/G/c/k$."
      ],
      "id": "44b59289-0062-40c5-8b1b-0ff0e3ef9e5c"
    },
    {
      "cell_type": "code",
      "execution_count": null,
      "metadata": {
        "id": "63561cb8-1cdd-4890-8f17-27d372841419"
      },
      "outputs": [],
      "source": [
        "waits_ds = []\n",
        "logs_ds = []\n",
        "refused_ds = []\n",
        "\n",
        "# ---- CODE START ---- #\n",
        "# load data from the data frame\n",
        "arrivals = df['InterArrival'] \n",
        "services = df['Service']\n",
        "\n",
        "# create a numpy array with numbers 1 to 9 inclusive!\n",
        "c_s = np.array(np.arange(1,10))\n",
        "for c in c_s:\n",
        "    # you only need four parameters for these simulations\n",
        "    waits_d, logs_d, refused_d = ggck_sim(arrivals, services, c, k=None)\n",
        "    avg_wait = waits_d[:, 1].mean()\n",
        "    avg_total = waits_d[:, 2].mean()\n",
        "    avg_queue = logs_d[:, 2].mean()\n",
        "    print(c, round(avg_total, 2), round(avg_wait,2), round(avg_queue,2))\n",
        "    \n",
        "# ---- CODE END ------ #"
      ],
      "id": "63561cb8-1cdd-4890-8f17-27d372841419"
    },
    {
      "cell_type": "markdown",
      "metadata": {
        "id": "6a5c844b-014e-4c95-be47-ea924f5c5465"
      },
      "source": [
        "**_Student comments:_**\n",
        "\n"
      ],
      "id": "6a5c844b-014e-4c95-be47-ea924f5c5465"
    },
    {
      "cell_type": "markdown",
      "metadata": {
        "id": "49b69ddb-5786-4a1c-9ca6-9e3cc3253e0e"
      },
      "source": [
        "#### Exercise 3.B.: **Stability**"
      ],
      "id": "49b69ddb-5786-4a1c-9ca6-9e3cc3253e0e"
    },
    {
      "cell_type": "markdown",
      "metadata": {
        "id": "8c80e0c3-12df-4857-a2d9-b5f6874fa14d"
      },
      "source": [
        "3. Service teams size \n",
        "   2. Is the queue stable?"
      ],
      "id": "8c80e0c3-12df-4857-a2d9-b5f6874fa14d"
    },
    {
      "cell_type": "code",
      "execution_count": null,
      "metadata": {
        "id": "b88ee621-081e-4410-b4e0-439f098e7a56"
      },
      "outputs": [],
      "source": [
        "# here we simulate all queues from 1 to 12 servers during 7 days\n",
        "waits_ds = []\n",
        "logs_ds = []\n",
        "refused_ds = []\n",
        "\n",
        "# ---- CODE START ---- #\n",
        "c_s = np.array(np.arange(1,13))\n",
        "num_days = 7\n",
        "\n",
        "# we have data for one full day, let's repeat it over multiple days\n",
        "# numpy has a function that makes tiling periodic systems trivial\n",
        "arrivals_day = df['InterArrival'] \n",
        "arrivals_week = np.tile(arrivals_day, num_days)\n",
        "services_day = df['Service']\n",
        "services_week = np.tile(services_day, num_days)\n",
        "\n",
        "arrival_rate = df['InterArrival'].mean() \n",
        "service_rate = df['Service'].mean()       \n",
        "\n",
        "avg_waits=[]\n",
        "avg_totals=[]\n",
        "\n",
        "wait_per_c = pd.DataFrame()\n",
        "total_per_c = pd.DataFrame()\n",
        "queue_per_c = pd.DataFrame()\n",
        "\n",
        "for c in c_s:\n",
        "    # again, four parameters only\n",
        "    waits_d, logs_d, refused_d = ggck_sim(arrivals_week, services_week, c, k=None)\n",
        "\n",
        "    avg_wait = waits_d[:, 1].mean()\n",
        "    avg_total = waits_d[:, 2].mean()\n",
        "    avg_queue = logs_d[:, 2].mean()\n",
        "    \n",
        "    avg_waits.append(avg_wait)\n",
        "    avg_totals.append(avg_total)\n",
        "\n",
        "    wait_per_c[str(c)] = waits_d[:, 1]\n",
        "    total_per_c[str(c)] = waits_d[:, 2]\n",
        "    queue_per_c[str(c)] = logs_d[:, 2]\n",
        "\n",
        "\n",
        "    utilization = (1/arrival_rate)/(c*(1/service_rate))\n",
        "    \n",
        "    print(c, round(utilization,2), round(avg_total, 2), \n",
        "          round(avg_wait,2), round(avg_queue,2))\n",
        "        \n",
        "# ---- CODE END ------ #"
      ],
      "id": "b88ee621-081e-4410-b4e0-439f098e7a56"
    },
    {
      "cell_type": "code",
      "source": [
        "wait_servers=pd.DataFrame()\n",
        "wait_servers[\"avg_waits\"]=avg_waits\n",
        "wait_servers[\"avg_totals\"]=avg_totals\n",
        "wait_servers[\"servers\"]=c_s"
      ],
      "metadata": {
        "id": "0Y20pEVT2HZc"
      },
      "id": "0Y20pEVT2HZc",
      "execution_count": null,
      "outputs": []
    },
    {
      "cell_type": "code",
      "source": [
        "plt.figure(figsize=(20, 5))\n",
        "for c in range(1,13):\n",
        "  plt.plot(queue_per_c[str(c)],label=c)\n",
        "plt.ylim((0,70))\n",
        "plt.title('Length of the queue per minute')\n",
        "plt.xlabel(\"Time interval (min)\")\n",
        "plt.ylabel(\"Number of servers\")\n",
        "plt.legend()\n",
        "plt.show()"
      ],
      "metadata": {
        "id": "CqZjLL_swCzv"
      },
      "id": "CqZjLL_swCzv",
      "execution_count": null,
      "outputs": []
    },
    {
      "cell_type": "markdown",
      "metadata": {
        "id": "70b53edf-a8ed-407d-aa38-d4829805ff01"
      },
      "source": [
        "**_Student comments:_**\n",
        "\n",
        "You can write comments here."
      ],
      "id": "70b53edf-a8ed-407d-aa38-d4829805ff01"
    },
    {
      "cell_type": "markdown",
      "metadata": {
        "id": "16711c2d-c45a-48b5-9e39-3f401547851b"
      },
      "source": [
        "#### Exercise 3.C.: **Waiting times and marginal value**"
      ],
      "id": "16711c2d-c45a-48b5-9e39-3f401547851b"
    },
    {
      "cell_type": "markdown",
      "metadata": {
        "id": "aaae7580-e85e-44fb-bc4e-0615cd9a5506"
      },
      "source": [
        "3. Service teams size \n",
        "   3. Plot the corresponding waiting-time distributions of the system. \n",
        "      Describe the changes. Also, plot the mean waiting time as a function of\n",
        "      the number of servers. How does the marginal value of adding more \n",
        "      servers develop? From a pure efficiency argument how many servers should\n",
        "      the hospital employ?"
      ],
      "id": "aaae7580-e85e-44fb-bc4e-0615cd9a5506"
    },
    {
      "cell_type": "code",
      "source": [
        "# Plotting waiting-time distributions of the system\n",
        "wait_per_c.plot.density(figsize = (7, 7), logx=True, xlim=(0, 10000), linewidth = 4)"
      ],
      "metadata": {
        "id": "UkIEfSiHI1U0"
      },
      "id": "UkIEfSiHI1U0",
      "execution_count": null,
      "outputs": []
    },
    {
      "cell_type": "code",
      "source": [
        "# Plotting average waiting time as a function of servers\n",
        "sns.lineplot(data=wait_servers, x=\"servers\", y=\"avg_waits\")"
      ],
      "metadata": {
        "id": "bl91QCkbI1Zl"
      },
      "id": "bl91QCkbI1Zl",
      "execution_count": null,
      "outputs": []
    },
    {
      "cell_type": "code",
      "source": [
        "# Plotting average waiting time as a function of servers\n",
        "sns.lineplot(data=wait_servers, x=\"servers\", y=\"avg_totals\")"
      ],
      "metadata": {
        "id": "CCEi5_0ERlBI"
      },
      "id": "CCEi5_0ERlBI",
      "execution_count": null,
      "outputs": []
    },
    {
      "cell_type": "code",
      "execution_count": null,
      "metadata": {
        "id": "cd575f86-4ef6-415e-944a-27b1a78aeed0"
      },
      "outputs": [],
      "source": [
        "c=6\n",
        "waits_d, logs_d, refused_d = ggck_sim(arrivals_day, services_day, c, k=None)\n",
        "\n",
        "wait_servers=pd.DataFrame()\n",
        "wait_servers[\"waiting_time\"]=waits_d[:,1]\n",
        "wait_servers[\"service_time\"]=waits_d[:,2]-waits_d[:,1]\n",
        "\n"
      ],
      "id": "cd575f86-4ef6-415e-944a-27b1a78aeed0"
    },
    {
      "cell_type": "code",
      "source": [
        "# Computing quantiles for a week\n",
        "print(\"0.90 quantile of  waiting for service time:\" ,wait_servers[\"service_time\"].quantile(0.90))\n",
        "print(\"0.95 quantile of  waiting for service time:\" ,wait_servers[\"service_time\"].quantile(0.95))\n",
        "print(\"0.99 quantile of  waiting for service time:\" ,wait_servers[\"service_time\"].quantile(0.99))\n",
        "\n",
        "print(\"0.90 quantile of  total time:\" ,wait_servers[\"waiting_time\"].quantile(0.90))\n",
        "print(\"0.95 quantile of  total time:\" ,wait_servers[\"waiting_time\"].quantile(0.95))\n",
        "print (\"0.99 quantile of  total time:\" ,wait_servers[\"waiting_time\"].quantile(0.99))\n",
        "\n"
      ],
      "metadata": {
        "id": "cevFa55PrVwR"
      },
      "id": "cevFa55PrVwR",
      "execution_count": null,
      "outputs": []
    },
    {
      "cell_type": "markdown",
      "metadata": {
        "id": "2d3bf9f2-b2e0-46f8-925b-7744980ecaa9"
      },
      "source": [
        "**_Student comments:_**\n",
        "\n"
      ],
      "id": "2d3bf9f2-b2e0-46f8-925b-7744980ecaa9"
    },
    {
      "cell_type": "markdown",
      "metadata": {
        "id": "01fccb1b-4285-438f-9549-7cc2e9f2024c"
      },
      "source": [
        "## D. Queuing and priority"
      ],
      "id": "01fccb1b-4285-438f-9549-7cc2e9f2024c"
    },
    {
      "cell_type": "markdown",
      "metadata": {
        "id": "9c9fa9ec-31a0-4892-88ac-c2c439ce68a9"
      },
      "source": [
        "### Exercise 4.: **Queuing and priority**"
      ],
      "id": "9c9fa9ec-31a0-4892-88ac-c2c439ce68a9"
    },
    {
      "cell_type": "markdown",
      "metadata": {
        "id": "ad7e9977-17e7-4bbe-83cb-404eb2183974"
      },
      "source": [
        "4. Queuing and priority. The hospital has been informed about the merits of \n",
        "   the [Manchester Triage System](https://www.triagenet.net/classroom/) and\n",
        "   wants to implement a similar system\n",
        "   1. Implement a priority queue system, such that critical patients have the\n",
        "      highest priority and are served first (prio =3), children below the age\n",
        "      of 16 have second highest priority (prio = 2), while everybody else have\n",
        "      lowest priority (prio = 1).  \n",
        "   2. Measure the waiting time impact for these three classes of people\n",
        "      compared to the First-come-first-serve principle from before?"
      ],
      "id": "ad7e9977-17e7-4bbe-83cb-404eb2183974"
    },
    {
      "cell_type": "markdown",
      "metadata": {
        "id": "fac31f48-c957-4a10-9368-34f6a92d2bd1"
      },
      "source": [
        "#### Exercise 4.A: **Priority queues with Simpy**"
      ],
      "id": "fac31f48-c957-4a10-9368-34f6a92d2bd1"
    },
    {
      "cell_type": "markdown",
      "metadata": {
        "id": "55e899fc-e982-4ede-bf29-f11d4ed95868"
      },
      "source": [
        "4. Queuing and priority.\n",
        "   1. Implement a priority queue system, such that critical patients have the\n",
        "      highest priority and are served first (prio =3), children below the age\n",
        "      of 16 have second highest priority (prio = 2), while everybody else have\n",
        "      lowest priority (prio = 1).\n",
        "      \n",
        "This exercise is a generalization of exercise 2.A and we will modified the\n",
        "relevant functions to make use of more elaborate queue, the \n",
        "`simpy.PriorityResource`, to introduce the required functionality.\n",
        "\n",
        "Please return to the code writen in ex.2.A and address all comments with\n",
        "reference to ex.6.\n",
        "\n",
        "Functions that require modifications:\n",
        "- `patient`: defines how the patient is processed \n",
        "- `spawn_patients`: instanciates the each patient on the simulation \n",
        "   environment\n",
        "- `ggck_sim`: the simulator function, sets the simulation environment for \n",
        "   generic distributions (G), with multiple servers (c) and possibly finite\n",
        "   system size (k)"
      ],
      "id": "55e899fc-e982-4ede-bf29-f11d4ed95868"
    },
    {
      "cell_type": "code",
      "source": [
        "def patient(env, queue, number, t_in, service, data,\n",
        "            prio=0, pool=None, pool_schedule=None,\n",
        "            queue_limit=None, refused=None,\n",
        "            verbose=False, verbose_deep=False):\n",
        "    # ---- CODE START ---- #\n",
        "    data_patient = []\n",
        "    \n",
        "    if verbose:\n",
        "      print(f'Patient {number} (with priority {prio}) arriving in ER room at {env.now}')\n",
        "\n",
        "    with queue.request(priority = prio) as req:\n",
        "      start = env.now\n",
        "      \n",
        "      if queue_limit != None:\n",
        "        if queue.count >= queue_limit:\n",
        "          refused.append([number, env.now, prio])\n",
        "          if verbose:\n",
        "            print(f'There is no room for patient {number} (with priority {prio}) in the ER room. They leave at {env.now}')\n",
        "        \n",
        "      else:\n",
        "                \n",
        "        # Request spot in the queue\n",
        "        yield req\n",
        "        data_patient.append(number)\n",
        "\n",
        "        # Waiting time\n",
        "        wait = env.now - start\n",
        "        \n",
        "        if verbose:\n",
        "          print(f'Patient {number} (with priority {prio}) has been waiting {wait} minutes (at {env.now}).')\n",
        "        \n",
        "        data_patient.append(wait)\n",
        "\n",
        "        # Service time\n",
        "        yield env.timeout(service)\n",
        "        if verbose:\n",
        "          print(f'Patient {number} (with priority {prio}) has been getting service for {service} minutes (at {env.now}).')          \n",
        "        total = wait + service\n",
        "        data_patient.append(total)\n",
        "\n",
        "        # Priority\n",
        "        data_patient.append(prio)\n",
        "        \n",
        "        #Leave\n",
        "        if verbose:\n",
        "          print(f'Patient {number} (with priority {prio}) leaves after a total of {wait + service} minutes at {env.now}.')\n",
        "        \n",
        "        data.append(data_patient)\n",
        "\n",
        "    # ---- CODE END ------ #"
      ],
      "metadata": {
        "id": "p_ZGjd91fE6l"
      },
      "id": "p_ZGjd91fE6l",
      "execution_count": null,
      "outputs": []
    },
    {
      "cell_type": "code",
      "source": [
        "def spawn_patients(env, queue, intervals, services, data,\n",
        "                   priorities=None, pool=None, pool_schedule=None,\n",
        "                   queue_limit=None, refused=None, \n",
        "                   verbose=False, verbose_deep=False):\n",
        "\n",
        "    # ---- CODE START ---- #\n",
        "\n",
        "    t_in = 0\n",
        "    \n",
        "    for i, interval_i in enumerate(intervals):\n",
        "\n",
        "        yield env.timeout(intervals[i])\n",
        "\n",
        "        number = int(i) + 1\n",
        "        t_in += intervals[i]\n",
        "        service = services[i]\n",
        "        \n",
        "        prio=priorities[i]     \n",
        "\n",
        "        env.process(patient(env, queue, number, t_in, service, data,\n",
        "              prio=prio, \n",
        "              pool=pool, pool_schedule=pool_schedule,\n",
        "              queue_limit=queue_limit,\n",
        "              refused = refused,\n",
        "              verbose=verbose))\n",
        "              \n",
        "    # ---- CODE END ------ #"
      ],
      "metadata": {
        "id": "fpeb8Y_wfF06"
      },
      "id": "fpeb8Y_wfF06",
      "execution_count": null,
      "outputs": []
    },
    {
      "cell_type": "code",
      "source": [
        "def ggck_sim(intervals, services, c, k=None,\n",
        "               priorities=None, pool_schedule=None,\n",
        "               monitor_interval=1, initial_time=0,\n",
        "               verbose=False, verbose_deep=False):\n",
        "\n",
        "    # ---- CODE START ---- #\n",
        "    \n",
        "    env = simpy.Environment()\n",
        "    queue = simpy.PriorityResource(env, c)\n",
        "\n",
        "    data=[]\n",
        "    data_res=[]\n",
        "    refused=[]\n",
        "\n",
        "    env.process(spawn_patients(env, queue, intervals, services, data,\n",
        "                   priorities=priorities, pool=None, pool_schedule=None,\n",
        "                   queue_limit=k, refused=refused, \n",
        "                   verbose=False, verbose_deep=False))\n",
        "\n",
        "    times = np.arange(1, np.sum(intervals)+1)\n",
        "\n",
        "    for ti in times:\n",
        "      env.run(until=ti)\n",
        "      resource_monitor(queue, data_res)    \n",
        "    env.run()\n",
        "    resource_monitor(queue, data_res)    \n",
        "\n",
        "    np.set_printoptions(suppress = True)\n",
        "                        \n",
        "    data = np.array(data)\n",
        "    data_res = np.array(data_res)\n",
        "    refused = np.array(refused)\n",
        "\n",
        "    return data, data_res, refused\n",
        "    \n",
        "    # ---- CODE END ------ #"
      ],
      "metadata": {
        "id": "CX-eOMwXfL_p"
      },
      "id": "CX-eOMwXfL_p",
      "execution_count": null,
      "outputs": []
    },
    {
      "cell_type": "markdown",
      "metadata": {
        "id": "3efe06d6-200f-491e-9042-31277ff31ffb"
      },
      "source": [
        "#### Exercise 4.B: **Priority vs non-priority**"
      ],
      "id": "3efe06d6-200f-491e-9042-31277ff31ffb"
    },
    {
      "cell_type": "markdown",
      "metadata": {
        "id": "4281da6b-071e-438f-a419-476f31a9f880"
      },
      "source": [
        "6. Queuing and priority.\n",
        "   2. Measure the waiting time impact for these three classes of people\n",
        "      compared to the First-come-first-serve principle from before?"
      ],
      "id": "4281da6b-071e-438f-a419-476f31a9f880"
    },
    {
      "cell_type": "code",
      "source": [
        "priorities = 1 -1 * df['Prio'].values  # The smaller the number, the higher is its priority!\n",
        "\n",
        "c, k = 6, None\n",
        "\n",
        "x1,x2,x3 = ggck_sim(df['InterArrival'], df['Service'], c, k,\n",
        "               priorities=priorities, pool_schedule=None,\n",
        "               monitor_interval=1, initial_time=0,\n",
        "               verbose=False, verbose_deep=False)"
      ],
      "metadata": {
        "id": "oTme38tVEFHc"
      },
      "id": "oTme38tVEFHc",
      "execution_count": null,
      "outputs": []
    },
    {
      "cell_type": "code",
      "source": [
        "prio_waitdf = pd.DataFrame()\n",
        "prio_waitdf['patientIDs'] = x1[:, 0]\n",
        "prio_waitdf['waitingtimes'] = x1[:, 1]\n",
        "prio_waitdf['totaltimes'] = x1[:, 2]\n",
        "prio_waitdf['priorities'] = x1[:, 3]\n",
        "\n",
        "prio_logdf = pd.DataFrame()\n",
        "prio_logdf['capacity'] = x2[:, 0]\n",
        "prio_logdf['served'] = x2[:, 1]\n",
        "prio_logdf['queuelength'] = x2[:, 2]"
      ],
      "metadata": {
        "id": "cxcGQyX_jEgY"
      },
      "id": "cxcGQyX_jEgY",
      "execution_count": null,
      "outputs": []
    },
    {
      "cell_type": "code",
      "source": [
        "print(\"Mean waiting time:\")\n",
        "print(prio_waitdf.groupby('priorities')['waitingtimes'].mean())\n",
        "print(\"\")\n",
        "print(\"Mean total time:\")\n",
        "print(prio_waitdf.groupby('priorities')['totaltimes'].mean())\n",
        "print(\"\")\n",
        "print(\"Mean queue length:\")\n",
        "print(prio_logdf['queuelength'].mean())"
      ],
      "metadata": {
        "id": "9JAsfMkOj3X_"
      },
      "id": "9JAsfMkOj3X_",
      "execution_count": null,
      "outputs": []
    },
    {
      "cell_type": "markdown",
      "metadata": {
        "id": "a051e4bf-2416-4feb-9833-05b869cff710"
      },
      "source": [
        "### Exercise 5.: **Priority and waiting time differentiation**"
      ],
      "id": "a051e4bf-2416-4feb-9833-05b869cff710"
    },
    {
      "cell_type": "markdown",
      "metadata": {
        "id": "1afec620-8d7a-4f72-88cf-a3fa49c04341"
      },
      "source": [
        "7. The hospital decides that waiting time goals will be different for each\n",
        "   priority group, namely: category 2 patients must at most wait 3 minutes, \n",
        "   while category 1 patients have a 95% percentile waiting time of maximum 15\n",
        "   minutes. (95% of the incoming people should be served before the 15th \n",
        "   minute). Priority queues are still in use.\n",
        "   1. Implement variable size queue in Python\n",
        "   2. Find a capacity schedule such that none of the constraints are violated\n",
        "      for a schedule with three intervals of 8 hours each starting from \n",
        "      midnight [0-8,8-16,16-24] and present proper KPIs for the system during\n",
        "      the period.  \n",
        "   3. If waiting time is evaluated by 1000 DKK/H when below the 3 and 15\n",
        "      minute threshold, and 5000 DKK/H when above (constraint is violated),\n",
        "      what is the accumulated waiting time cost over a day for a capacity \n",
        "      schedule of [6,6,6]? What is the cost for your schedule found in 7.a? \n",
        "   4. (OPTIONAL) The cost of an active server is 1000 DKK/H. Try to find a \n",
        "      ‘good’ capacity mix over the three time-slots. You may base your\n",
        "      assessment on the basis of a dedicated objective function or other\n",
        "      measures of performance.  "
      ],
      "id": "1afec620-8d7a-4f72-88cf-a3fa49c04341"
    },
    {
      "cell_type": "markdown",
      "metadata": {
        "id": "09b2a776-3bde-4199-b755-f3c7a9ec173a"
      },
      "source": [
        "#### Exercise 5.A: **Capacity scheduling in Python**"
      ],
      "id": "09b2a776-3bde-4199-b755-f3c7a9ec173a"
    },
    {
      "cell_type": "markdown",
      "metadata": {
        "id": "a1adc33f-ce95-4b14-bce8-306aeaf655ca"
      },
      "source": [
        "Just as in ex.4.A, this is a generalization of exercise 2.A and we will \n",
        "modified the relevant functions to introduce the required functionality. \n",
        "\n",
        "It is important to note that, Simpy does not allow the capacity of the \n",
        "resource queue to vary, but offer an additional class, `simpy.Container`, that\n",
        "allows us to solve this problem.\n",
        "\n",
        "Functions that require modifications:\n",
        "- `patient`: defines how the patient is processed \n",
        "- `spawn_patients`: instanciates the each patient on the simulation \n",
        "   environment\n",
        "- `ggck_sim`: the simulator function, sets the simulation environment for \n",
        "   generic distributions (G), with multiple servers (c) and possibly finite\n",
        "   system size (k)\n"
      ],
      "id": "a1adc33f-ce95-4b14-bce8-306aeaf655ca"
    },
    {
      "cell_type": "code",
      "source": [
        "def patient(env, queue, number, t_in, service, data,\n",
        "            prio=0, pool=None, pool_schedule=None,\n",
        "            queue_limit=None, refused=None,\n",
        "            verbose=False, verbose_deep=False):\n",
        "    # ---- CODE START ---- #\n",
        "    data_patient = []\n",
        "\n",
        "    if verbose:\n",
        "      print(f'Patient {number} (with priority {prio}) arriving in ER room at {env.now}')\n",
        "\n",
        "    with queue.request(priority = prio) as req:\n",
        "      start = env.now\n",
        "      if queue_limit != None:\n",
        "        if queue.count >= queue_limit:\n",
        "          refused.append([number, env.now, prio])\n",
        "          if verbose:\n",
        "            print(f'There is no room for patient {number} (with priority {prio}) in the ER room. They leave at {env.now}')\n",
        "        \n",
        "      else:\n",
        "        \n",
        "        yield req\n",
        "        data_patient.append(number)\n",
        "\n",
        "        # Request doctor\n",
        "        yield pool.get(1)\n",
        "\n",
        "        # Waiting time\n",
        "        wait = env.now - start                    \n",
        "        if verbose:\n",
        "          print(f'Patient {number} (with priority {prio}) has been waiting {wait} minutes (at {env.now}).')\n",
        "        data_patient.append(wait)\n",
        "\n",
        "        # Service time\n",
        "        yield env.timeout(service)\n",
        "        if verbose:\n",
        "          print(f'Patient {number} (with priority {prio}) has been getting service for {service} minutes (at {env.now}).')          \n",
        "        total = wait + service\n",
        "        data_patient.append(total)\n",
        "\n",
        "        # Priority\n",
        "        data_patient.append(prio)\n",
        "        \n",
        "        #Leave\n",
        "        if verbose:\n",
        "          print(f'Patient {number} (with priority {prio}) leaves after a total of {wait + service} minutes at {env.now}.')\n",
        "        \n",
        "        data.append(data_patient)\n",
        "\n",
        "        #Return doctor to pool\n",
        "        pool_level = pool.level\n",
        "        schedule_index = math.ceil(env.now / 60) - 1\n",
        "        schedule_index = schedule_index % 23\n",
        "        pool_size = pool_schedule[schedule_index]\n",
        "\n",
        "\n",
        "        if pool_level < pool_size:\n",
        "          yield pool.put(1)\n",
        "\n",
        "    # ---- CODE END ------ #"
      ],
      "metadata": {
        "id": "opTrBIFdgNVs"
      },
      "id": "opTrBIFdgNVs",
      "execution_count": null,
      "outputs": []
    },
    {
      "cell_type": "code",
      "source": [
        "def spawn_patients(env, queue, intervals, services, data,\n",
        "                   priorities=None, pool=None, pool_schedule=None,\n",
        "                   queue_limit=None, refused=None, \n",
        "                   verbose=False, verbose_deep=False):\n",
        "\n",
        "    # ---- CODE START ---- #\n",
        "\n",
        "    t_in = 0\n",
        "    \n",
        "    for i, interval_i in enumerate(intervals):\n",
        "    \n",
        "\n",
        "        yield env.timeout(intervals[i])\n",
        "\n",
        "        number = int(i) + 1\n",
        "        t_in += intervals[i]\n",
        "        service = services[i]\n",
        "\n",
        "        prio = priorities[i]    \n",
        "\n",
        "        env.process(patient(env, queue, number, t_in, service, data,\n",
        "              prio=prio, \n",
        "              pool=pool, pool_schedule=pool_schedule,\n",
        "              queue_limit=queue_limit,\n",
        "              refused = refused,\n",
        "              verbose=verbose))\n",
        "              \n",
        "    # ---- CODE END ------ #"
      ],
      "metadata": {
        "id": "dG3xHPmHgQOp"
      },
      "id": "dG3xHPmHgQOp",
      "execution_count": null,
      "outputs": []
    },
    {
      "cell_type": "code",
      "source": [
        "def doctor_fill(env, queue, pool, pool_schedule, \n",
        "                   verbose=False, verbose_deep=False):\n",
        "    pool_level = pool.level\n",
        "    schedule_index = math.ceil(env.now / 60) - 1\n",
        "    schedule_index = schedule_index % 23\n",
        "\n",
        "    if schedule_index == 8:\n",
        "      if pool_schedule[8]-pool_schedule[7] > 0:\n",
        "        yield pool.put(pool_schedule[8]-pool_schedule[7])\n",
        "    if schedule_index == 16:\n",
        "      if pool_schedule[16]-pool_schedule[15] > 0:\n",
        "        yield pool.put(pool_schedule[16]-pool_schedule[15])"
      ],
      "metadata": {
        "id": "H_Bz88iX3V1U"
      },
      "id": "H_Bz88iX3V1U",
      "execution_count": null,
      "outputs": []
    },
    {
      "cell_type": "code",
      "source": [
        "def ggck_sim(intervals, services, c, k=None,\n",
        "               priorities=None, pool_schedule=None,\n",
        "               monitor_interval=1, initial_time=0,\n",
        "               verbose=False, verbose_deep=False):\n",
        "\n",
        "    # ---- CODE START ---- #   \n",
        "    env = simpy.Environment()\n",
        "    queue = simpy.PriorityResource(env, c)\n",
        "    pool = simpy.Container(env, c, init=pool_schedule[0]) \n",
        "\n",
        "    data=[]\n",
        "    data_res=[]\n",
        "    refused=[]\n",
        "\n",
        "    env.process(spawn_patients(env, queue, intervals, services, data,\n",
        "                   priorities=priorities, pool=pool, pool_schedule=pool_schedule,\n",
        "                   queue_limit=k, refused=refused, \n",
        "                   verbose=False, verbose_deep=False))\n",
        "    env.process(doctor_fill(env, queue, pool, pool_schedule, \n",
        "                   verbose=False, verbose_deep=False))\n",
        "\n",
        "    times = np.arange(1, np.sum(intervals)+1)\n",
        "\n",
        "    for ti in times:   \n",
        "      env.run(until=ti)\n",
        "      resource_monitor(queue, data_res)    \n",
        "    env.run()\n",
        "    resource_monitor(queue, data_res)    \n",
        "\n",
        "    np.set_printoptions(suppress = True)\n",
        "                        \n",
        "    data = np.array(data)\n",
        "    data_res = np.array(data_res)\n",
        "    refused = np.array(refused)\n",
        "\n",
        "    return data, data_res, refused\n",
        "    \n",
        "    # ---- CODE END ------ #"
      ],
      "metadata": {
        "id": "YoNv6LlNgQmO"
      },
      "id": "YoNv6LlNgQmO",
      "execution_count": null,
      "outputs": []
    },
    {
      "cell_type": "markdown",
      "metadata": {
        "id": "36ff100d-5964-4a2e-9f5b-89402ae980c6"
      },
      "source": [
        "#### Exercise 5.B: **The impact of scheduling**"
      ],
      "id": "36ff100d-5964-4a2e-9f5b-89402ae980c6"
    },
    {
      "cell_type": "markdown",
      "metadata": {
        "id": "e3d4bcbd-ff9d-48dc-8eb2-967cda17869f"
      },
      "source": [
        "5. Priority and waiting time differentiation\n",
        "   2. Find a capacity schedule such that none of the constraints are violated\n",
        "      for a schedule with three intervals of 8 hours each starting from \n",
        "      midnight [0-8,8-16,16-24] and present proper KPIs for the system during\n",
        "      the period.  "
      ],
      "id": "e3d4bcbd-ff9d-48dc-8eb2-967cda17869f"
    },
    {
      "cell_type": "code",
      "source": [
        "priorities = 1 -1 * df['Prio'].values  # The smaller the number, the higher is its priority!\n",
        "\n",
        "intervals = df['InterArrival'].values\n",
        "services = df['Service'].values\n",
        "\n",
        "pool_wait = pd.DataFrame()\n",
        "\n",
        "# CONSTRAINTS:\n",
        "# category 2 (-1) patients must at most wait 3 minutes, \n",
        "# while category 1 (0) patients have a 95% percentile \n",
        "# waiting time of maximum 15 minutes. \n",
        "# (95% of the incoming people should be served before the 15th minute)\n",
        "\n",
        "first_shift = [11]\n",
        "second_shift = [9]\n",
        "third_shift = [9]\n",
        "\n",
        "first_shift = np.tile([first_shift], 8)\n",
        "second_shift = np.tile(second_shift, 8)\n",
        "third_shift = np.tile(third_shift, 8)\n",
        "pool_schedule = np.append(first_shift, second_shift)\n",
        "pool_schedule = np.append(pool_schedule, third_shift)\n",
        "\n",
        "c, k = 100, None\n",
        "\n",
        "x1,x2,x3 = ggck_sim(intervals, services, c, k,\n",
        "              priorities=priorities, pool_schedule=pool_schedule,\n",
        "              monitor_interval=1, initial_time=0,\n",
        "              verbose=False, verbose_deep=False)\n",
        "\n",
        "pool_waitdf = pd.DataFrame()\n",
        "pool_waitdf['patientIDs'] = x1[:, 0]\n",
        "pool_waitdf['waitingtimes'] = x1[:, 1]\n",
        "pool_waitdf['priorities'] = x1[:, 3]\n",
        "\n",
        "print(\"First constraint: (about prio -1)\")\n",
        "print(pool_waitdf.groupby('priorities')['waitingtimes'].max())\n",
        "print(\"Second constraint: (about prio 0)\")\n",
        "print(pool_waitdf.groupby('priorities')['waitingtimes'].quantile(0.95))\n"
      ],
      "metadata": {
        "id": "6mVw9m6Fs7Qf"
      },
      "id": "6mVw9m6Fs7Qf",
      "execution_count": null,
      "outputs": []
    },
    {
      "cell_type": "markdown",
      "metadata": {
        "id": "2c1de3ef-c490-40f7-b8bb-3d47ef466e7a"
      },
      "source": [
        "#### Exercise 5.C: **Cost based analysis**"
      ],
      "id": "2c1de3ef-c490-40f7-b8bb-3d47ef466e7a"
    },
    {
      "cell_type": "markdown",
      "metadata": {
        "id": "4365ebc2-bbee-4e71-a33e-0b9505817187"
      },
      "source": [
        "5. Priority and waiting time differentiation\n",
        "   2. If waiting time is evaluated by 1000 DKK/H when below the 3 and 15\n",
        "      minute threshold, and 5000 DKK/H when above (constraint is violated),\n",
        "      what is the accumulated waiting time cost over a day for a capacity \n",
        "      schedule of [6,6,6]? What is the cost for your schedule found in 7.a? "
      ],
      "id": "4365ebc2-bbee-4e71-a33e-0b9505817187"
    },
    {
      "cell_type": "code",
      "source": [
        "priorities = 1 -1 * df['Prio'].values  # The smaller the number, the higher is its priority!\n",
        "\n",
        "intervals = df['InterArrival'].values\n",
        "services = df['Service'].values\n",
        "\n",
        "pool_wait = pd.DataFrame()\n",
        "\n",
        "# CONSTRAINTS:\n",
        "# category 2 (-1) patients must at most wait 3 minutes, \n",
        "# while category 1 (0) patients have a 95% percentile \n",
        "# waiting time of maximum 15 minutes. \n",
        "# (95% of the incoming people should be served before the 15th minute)\n",
        "\n",
        "first_shift = [11]\n",
        "second_shift = [9]\n",
        "third_shift = [9]\n",
        "\n",
        "# first_shift = [6]\n",
        "# second_shift = [6]\n",
        "# third_shift = [6]\n",
        "\n",
        "first_shift = np.tile([first_shift], 8)\n",
        "second_shift = np.tile(second_shift, 8)\n",
        "third_shift = np.tile(third_shift, 8)\n",
        "pool_schedule = np.append(first_shift, second_shift)\n",
        "pool_schedule = np.append(pool_schedule, third_shift)\n",
        "\n",
        "c, k = 100, None\n",
        "\n",
        "x1,x2,x3 = ggck_sim(intervals, services, c, k,\n",
        "              priorities=priorities, pool_schedule=pool_schedule,\n",
        "              monitor_interval=1, initial_time=0,\n",
        "              verbose=False, verbose_deep=False)\n",
        "\n",
        "pool_waitdf = pd.DataFrame()\n",
        "pool_waitdf['waitingtimes'] = x1[:, 1]\n",
        "pool_waitdf['priorities'] = x1[:, 3]\n",
        "\n",
        "cost = 0\n",
        "\n",
        "for i in range(len(pool_waitdf['waitingtimes'])):\n",
        "  if pool_waitdf['priorities'][i] == -1:\n",
        "    if pool_waitdf['waitingtimes'][i] < 3:\n",
        "      cost += 1000*pool_waitdf['waitingtimes'][i]/60\n",
        "    else:\n",
        "      cost += 5000*pool_waitdf['waitingtimes'][i]/60\n",
        "  if pool_waitdf['priorities'][i] == 0:\n",
        "    if pool_waitdf['waitingtimes'][i] < 15:\n",
        "      cost += 1000*pool_waitdf['waitingtimes'][i]/60\n",
        "    else:\n",
        "      cost += 5000*pool_waitdf['waitingtimes'][i]/60\n",
        "  if pool_waitdf['priorities'][i] == -2:\n",
        "    cost += 1000*pool_waitdf['waitingtimes'][i]/60\n",
        "\n",
        "print(cost)"
      ],
      "metadata": {
        "id": "_0mpdd6iqICJ"
      },
      "id": "_0mpdd6iqICJ",
      "execution_count": null,
      "outputs": []
    },
    {
      "cell_type": "markdown",
      "metadata": {
        "id": "80e01a10-c461-4c0e-bc20-ecc39e32c156"
      },
      "source": [
        "#### Exercise 5.D: **Cost based optimum**"
      ],
      "id": "80e01a10-c461-4c0e-bc20-ecc39e32c156"
    },
    {
      "cell_type": "markdown",
      "metadata": {
        "id": "64a58cb5-4b16-4a42-a99b-69ed523b10af"
      },
      "source": [
        "5. Priority and waiting time differentiation\n",
        "   3. (OPTIONAL) The cost of an active server is 1000 DKK/H. Try to find a \n",
        "      ‘good’ capacity mix over the three time-slots. You may base your\n",
        "      assessment on the basis of a dedicated objective function or other\n",
        "      measures of performance.  "
      ],
      "id": "64a58cb5-4b16-4a42-a99b-69ed523b10af"
    }
  ],
  "metadata": {
    "colab": {
      "collapsed_sections": [],
      "provenance": [],
      "private_outputs": true
    },
    "kernelspec": {
      "display_name": "Python (DTU_42188)",
      "language": "python",
      "name": "dtu_42188"
    },
    "language_info": {
      "codemirror_mode": {
        "name": "ipython",
        "version": 3
      },
      "file_extension": ".py",
      "mimetype": "text/x-python",
      "name": "python",
      "nbconvert_exporter": "python",
      "pygments_lexer": "ipython3",
      "version": "3.10.6"
    },
    "toc-autonumbering": false,
    "accelerator": "GPU",
    "gpuClass": "standard"
  },
  "nbformat": 4,
  "nbformat_minor": 5
}